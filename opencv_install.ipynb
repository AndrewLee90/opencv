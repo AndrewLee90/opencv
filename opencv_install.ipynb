{
  "nbformat": 4,
  "nbformat_minor": 0,
  "metadata": {
    "colab": {
      "provenance": [],
      "authorship_tag": "ABX9TyNE+DrEDg8KsB0HY9POuujf",
      "include_colab_link": true
    },
    "kernelspec": {
      "name": "python3",
      "display_name": "Python 3"
    },
    "language_info": {
      "name": "python"
    }
  },
  "cells": [
    {
      "cell_type": "markdown",
      "metadata": {
        "id": "view-in-github",
        "colab_type": "text"
      },
      "source": [
        "<a href=\"https://colab.research.google.com/github/dscoool/opencv/blob/main/opencv_install.ipynb\" target=\"_parent\"><img src=\"https://colab.research.google.com/assets/colab-badge.svg\" alt=\"Open In Colab\"/></a>"
      ]
    },
    {
      "cell_type": "markdown",
      "source": [
        "# OpenCV 설치"
      ],
      "metadata": {
        "id": "xR9F3Jqm6j9N"
      }
    },
    {
      "cell_type": "markdown",
      "source": [
        "OpenCV는 Open Source Computer Vision Library의 약어로 오픈소스 컴퓨터 비전 라이브러리입니다.\n",
        "\n",
        "실시간 영상 처리에 중점을 둔 영상 처리 라이브러리로서, Apache 2.0 라이선스하에 배포되어 학술적 용도 외에도 상업적 용도로도 사용할 수 있습니다.\n",
        "\n",
        "OpenCV는 계산 효율성과 실시간 처리에 중점을 두고 설계되었습니다.\n",
        "\n",
        "500가지가 넘는 알고리즘이 최적화돼 있으며 이 알고리즘을 구성하거나 지원하는 함수는 알고리즘 수의 10배가 넘습니다.\n",
        "\n",
        "물체 인식, 얼굴 인식, 제스처 인식을 비롯해 자율주행 자동차, OCR 판독기, 불량 검사기 등에 활용할 수 있습니다.\n",
        "\n",
        "본 강좌는 Python-OpenCV 4.5.1.48에 맞추어져 있습니다."
      ],
      "metadata": {
        "id": "d2Ouu8Va59zg"
      }
    },
    {
      "cell_type": "markdown",
      "source": [
        "Python OpenCV는 다음과 같은 네 종류의 패키지를 제공합니다.\n",
        "\n",
        "\n",
        "\n",
        "```\n",
        "opencv-python\n",
        "opencv-contrib-python\n",
        "opencv-python-headless\n",
        "opencv-contrib-python-headless\n",
        "```\n",
        "\n",
        "\n",
        "\n",
        "contrib가 포함된 패키지는 확장 모듈이 포함된 패키지이며, 추가 모듈이 포함된 OpenCV를 설치합니다"
      ],
      "metadata": {
        "id": "eBYm1ziN6CM8"
      }
    },
    {
      "cell_type": "markdown",
      "source": [
        "headless가 포함된 패키지는 GUI 라이브러리 종속성이 없어 서버 환경(Docker, Cloud)에서 사용할 수 있는 OpenCV를 설치합니다.\n",
        "\n",
        "특별한 경우가 아니라면, 일반적으로 opencv-python 패키지를 사용합니다.\n",
        "\n",
        "OpenCV는 pip를 통하여 설치할 수 있습니다.\n",
        "\n",
        "명령 프롬프트나 터미널에서 `python -m pip install opencv-python` 명령어로 설치할 수 있습니다."
      ],
      "metadata": {
        "id": "OVm2INUF6JtG"
      }
    },
    {
      "cell_type": "code",
      "source": [
        "import cv2\n",
        "print(cv2.__version__)"
      ],
      "metadata": {
        "colab": {
          "base_uri": "https://localhost:8080/"
        },
        "id": "OeOL6pH-6G_Y",
        "outputId": "6834204e-1fa7-4f7e-d899-4076f618edd4"
      },
      "execution_count": 1,
      "outputs": [
        {
          "output_type": "stream",
          "name": "stdout",
          "text": [
            "4.10.0\n"
          ]
        }
      ]
    },
    {
      "cell_type": "markdown",
      "source": [
        "결과\n",
        "4.10.0\n",
        "\n",
        "정상적으로 설치가 완료되었다면 설치한 OpenCV의 버전인 4.5.1이 출력됩니다."
      ],
      "metadata": {
        "id": "kM5t1mYK6Zy6"
      }
    }
  ]
}