{
  "nbformat": 4,
  "nbformat_minor": 0,
  "metadata": {
    "colab": {
      "provenance": [],
      "gpuType": "T4",
      "authorship_tag": "ABX9TyM4NSSoaa5LvCQX1SJPQY/z",
      "include_colab_link": true
    },
    "kernelspec": {
      "name": "python3",
      "display_name": "Python 3"
    },
    "language_info": {
      "name": "python"
    },
    "accelerator": "GPU"
  },
  "cells": [
    {
      "cell_type": "markdown",
      "metadata": {
        "id": "view-in-github",
        "colab_type": "text"
      },
      "source": [
        "<a href=\"https://colab.research.google.com/github/dscoool/opencv/blob/main/color_detection.ipynb\" target=\"_parent\"><img src=\"https://colab.research.google.com/assets/colab-badge.svg\" alt=\"Open In Colab\"/></a>"
      ]
    },
    {
      "cell_type": "markdown",
      "source": [
        "### 객체의 색상을 이용하여 검출"
      ],
      "metadata": {
        "id": "zMaiGuF90lXG"
      }
    },
    {
      "cell_type": "code",
      "execution_count": 1,
      "metadata": {
        "id": "dZ0TLVhmymLE"
      },
      "outputs": [],
      "source": [
        "import cv2\n",
        "import numpy as np\n",
        "from scipy.spatial import distance as dist\n",
        "import imutils\n",
        "import matplotlib.pyplot as plt"
      ]
    },
    {
      "cell_type": "code",
      "source": [
        "# def img_show(title='image', img=None, figsize=(8 ,5)):\n",
        "#     plt.figure(figsize=figsize)\n",
        "\n",
        "#     if type(img) == list:\n",
        "#         if type(title) == list:\n",
        "#             titles = title\n",
        "#         else:\n",
        "#             titles = []\n",
        "\n",
        "#             for i in range(len(img)):\n",
        "#                 titles.append(title)\n",
        "\n",
        "#         for i in range(len(img)):\n",
        "#             if len(img[i].shape) <= 2:\n",
        "#                 rgbImg = cv2.cvtColor(img[i], cv2.COLOR_GRAY2RGB)\n",
        "#             else:\n",
        "#                 rgbImg = cv2.cvtColor(img[i], cv2.COLOR_BGR2RGB)\n",
        "\n",
        "#             plt.subplot(1, len(img), i + 1), plt.imshow(rgbImg)\n",
        "#             plt.title(titles[i])\n",
        "#             plt.xticks([]), plt.yticks([])\n",
        "\n",
        "#         plt.show()\n",
        "#     else:\n",
        "#         if len(img.shape) < 3:\n",
        "#             rgbImg = cv2.cvtColor(img, cv2.COLOR_GRAY2RGB)\n",
        "#         else:\n",
        "#             rgbImg = cv2.cvtColor(img, cv2.COLOR_BGR2RGB)\n",
        "\n",
        "#         plt.imshow(rgbImg)\n",
        "#         plt.title(title)\n",
        "#         plt.xticks([]), plt.yticks([])\n",
        "#         plt.show()"
      ],
      "metadata": {
        "id": "yxSiDQlcyrEU"
      },
      "execution_count": 2,
      "outputs": []
    },
    {
      "cell_type": "markdown",
      "source": [
        "### Function declaration\n",
        "#### Color 을 판단하는 Function (이 부분을 수정하여 특정 Color만 추출을 하는 기능을 구현할 수도 있습니다.)\n",
        "\n"
      ],
      "metadata": {
        "id": "-XT-00y_0wIh"
      }
    },
    {
      "cell_type": "code",
      "source": [
        "def color_label(image, c):\n",
        "    # 윤곽선에 대한 마스크를 구성한 다음 영역에 대한 평균 L*a*b* 값을 계산\n",
        "    mask = np.zeros(image.shape[:2], dtype=\"uint8\")\n",
        "    cv2.drawContours(mask, [c], -1, 255, -1)\n",
        "    mask = cv2.erode(mask, None, iterations=2)\n",
        "    mean = cv2.mean(image, mask=mask)[:3]\n",
        "\n",
        "    # 정의한 색상 L*a*b* Array를 loop로 수행하여 L*a*b* 색상 값과 이미지 평균 사이의 거리를 계산하며\n",
        "    # 최소 거리의 L*a*b* 색상 값을 찾음\n",
        "    min_dist = (np.inf, None)\n",
        "\n",
        "    for (i, row) in enumerate(lab_array):\n",
        "        d = dist.euclidean(row[0], mean)\n",
        "        if d < min_dist[0]:\n",
        "            min_dist = (d, i)\n",
        "\n",
        "    return color_names[min_dist[1]]"
      ],
      "metadata": {
        "id": "m_48gZkSytA1"
      },
      "execution_count": 3,
      "outputs": []
    },
    {
      "cell_type": "markdown",
      "source": [
        "### Load Image\n"
      ],
      "metadata": {
        "id": "_LzsDhYc05in"
      }
    },
    {
      "cell_type": "code",
      "source": [
        "import urllib.request\n",
        "from google.colab.patches import cv2_imshow\n",
        "\n",
        "img_url='https://raw.githubusercontent.com/dscoool/opencv/refs/heads/main/color.png'\n",
        "resp = urllib.request.urlopen(img_url)\n",
        "image = np.asarray(bytearray(resp.read()), dtype=\"uint8\")\n",
        "img = cv2.imdecode(image, cv2.IMREAD_COLOR)\n",
        "\n",
        "cv2_imshow(img)\n",
        "# img_show('original image', cv2_image)"
      ],
      "metadata": {
        "colab": {
          "base_uri": "https://localhost:8080/",
          "height": 322
        },
        "id": "qI7ezd_uyvRb",
        "outputId": "bbf32a4e-2164-412b-cf18-5b9c767ac7f7"
      },
      "execution_count": 7,
      "outputs": [
        {
          "output_type": "display_data",
          "data": {
            "text/plain": [
              "<PIL.Image.Image image mode=RGB size=289x305>"
            ],
            "image/png": "[encoded data removed]",
            "image/jpeg": "[encoded data removed]"
          },
          "metadata": {}
        }
      ]
    },
    {
      "cell_type": "markdown",
      "source": [
        "### Color Detection\n",
        "#### Key는 색상명, Value는 RGB값을 tuple로 색상 dictionary를 정의합니다."
      ],
      "metadata": {
        "id": "vMGhSkzz07Mi"
      }
    },
    {
      "cell_type": "code",
      "source": [
        "colors_dict = {\"Red\": (255, 0, 0),\n",
        "               \"Green\": (0, 255, 0),\n",
        "               \"Blue\": (0, 0, 255)}"
      ],
      "metadata": {
        "id": "RgChel2ZzY9f"
      },
      "execution_count": 8,
      "outputs": []
    },
    {
      "cell_type": "markdown",
      "source": [
        "RGB color space를 L*a*b* color space로 변환 (RGB나 HSV가 아닌 L*a*b* 를 이용하는 이유는 선택된 객체의 색상의 어떤 색상과 가까운지 측정하기 위해  유클리디안 거리(Euclidean Distance) 측정 방식을 사용하기 때문입니다.)"
      ],
      "metadata": {
        "id": "pKBM1fun0-_W"
      }
    },
    {
      "cell_type": "code",
      "source": [
        "lab_array = np.zeros((len(colors_dict), 1, 3), dtype=\"uint8\")\n",
        "color_names = []\n",
        "\n",
        "for (i, (name, rgb)) in enumerate(colors_dict.items()):\n",
        "    lab_array[i] = rgb\n",
        "    color_names.append(name)\n",
        "\n",
        "lab_array = cv2.cvtColor(lab_array, cv2.COLOR_RGB2LAB)"
      ],
      "metadata": {
        "id": "YnhFFyvDzZny"
      },
      "execution_count": 9,
      "outputs": []
    },
    {
      "cell_type": "markdown",
      "source": [
        "아래 과정을 통해 이미지를 그레이스케일로 변환하고 노이즈를 줄이기 위한 이미지 블러링 후 이진화 합니다."
      ],
      "metadata": {
        "id": "_7eEaFAB1BK9"
      }
    },
    {
      "cell_type": "code",
      "source": [
        "resized = imutils.resize(img, width=640)\n",
        "ratio = img.shape[0] / float(resized.shape[0])\n",
        "blurred = cv2.GaussianBlur(resized, (5, 5), 0)\n",
        "gray = cv2.cvtColor(blurred, cv2.COLOR_BGR2GRAY)\n",
        "lab_img = cv2.cvtColor(blurred, cv2.COLOR_BGR2LAB)\n",
        "thresh = cv2.threshold(gray, 10, 255, cv2.THRESH_BINARY)[1]\n",
        "\n",
        "img_show(['GaussianBlur', 'L*a*b* color', 'Threshold'], [blurred, lab_img, thresh])"
      ],
      "metadata": {
        "colab": {
          "base_uri": "https://localhost:8080/",
          "height": 251
        },
        "id": "vn5G9fEmzdVL",
        "outputId": "4920e039-8b6e-4ca6-90f9-104a923ba198"
      },
      "execution_count": 11,
      "outputs": [
        {
          "output_type": "display_data",
          "data": {
            "text/plain": [
              "<Figure size 800x500 with 3 Axes>"
            ],
            "image/png": "[encoded data removed]"
          },
          "metadata": {}
        }
      ]
    },
    {
      "cell_type": "markdown",
      "source": [
        "이진화 이미지에서 윤곽선을 검출합니다"
      ],
      "metadata": {
        "id": "DhwxVOw_1IVV"
      }
    },
    {
      "cell_type": "code",
      "source": [
        "cnts = cv2.findContours(thresh.copy(), cv2.RETR_EXTERNAL, cv2.CHAIN_APPROX_SIMPLE)\n",
        "cnts = imutils.grab_contours(cnts)"
      ],
      "metadata": {
        "id": "3odAboDF0cpU"
      },
      "execution_count": null,
      "outputs": []
    },
    {
      "cell_type": "markdown",
      "source": [
        "추출된 윤곽선을 기준으로 Color을 판단하여 이미지에 표시합니다.\n",
        "\n"
      ],
      "metadata": {
        "id": "CA6XjeHn1KdL"
      }
    },
    {
      "cell_type": "code",
      "source": [
        "vis = cv2_image.copy()\n",
        "\n",
        "# loop over the contours\n",
        "for c in cnts:\n",
        "    # cv2.moments를 이용하여 객체의 중심을 계산\n",
        "    M = cv2.moments(c)\n",
        "    cX = int((M[\"m10\"] / M[\"m00\"]) * ratio)\n",
        "    cY = int((M[\"m01\"] / M[\"m00\"]) * ratio)\n",
        "\n",
        "    # 이미지에서 객체의 윤곽선과 Color를 표시\n",
        "    color = color_label(lab_img, c)\n",
        "\n",
        "    c = c.astype(\"float\")\n",
        "    c *= ratio\n",
        "    c = c.astype(\"int\")\n",
        "    cv2.drawContours(vis, [c], -1, (0, 255, 0), 10)\n",
        "    cv2.circle(vis, (cX, cY), 20, (0, 255, 0), -1);\n",
        "    cv2.putText(vis, color, (cX-80, cY-50), cv2.FONT_HERSHEY_SIMPLEX, 2, (255, 255, 255), 5)"
      ],
      "metadata": {
        "id": "5k5Xeo7Y0dVx"
      },
      "execution_count": null,
      "outputs": []
    },
    {
      "cell_type": "markdown",
      "source": [
        "Color를 표현한 이미지를 확인합니다.\n",
        "\n"
      ],
      "metadata": {
        "id": "-cjVq-mn1TXZ"
      }
    },
    {
      "cell_type": "code",
      "source": [
        "cv2_imshow('Color Detection', vis, figsize=(16,10))\n"
      ],
      "metadata": {
        "colab": {
          "base_uri": "https://localhost:8080/",
          "height": 141
        },
        "id": "_AkdFXxo0fwU",
        "outputId": "bb494d78-4f53-4794-c72e-d523a23a8273"
      },
      "execution_count": 12,
      "outputs": [
        {
          "output_type": "error",
          "ename": "NameError",
          "evalue": "name 'vis' is not defined",
          "traceback": [
            "\u001b[0;31m---------------------------------------------------------------------------\u001b[0m",
            "\u001b[0;31mNameError\u001b[0m                                 Traceback (most recent call last)",
            "\u001b[0;32m<ipython-input-12-c760bf9c7b10>\u001b[0m in \u001b[0;36m<cell line: 1>\u001b[0;34m()\u001b[0m\n\u001b[0;32m----> 1\u001b[0;31m \u001b[0mcv2_imshow\u001b[0m\u001b[0;34m(\u001b[0m\u001b[0;34m'Color Detection'\u001b[0m\u001b[0;34m,\u001b[0m \u001b[0mvis\u001b[0m\u001b[0;34m,\u001b[0m \u001b[0mfigsize\u001b[0m\u001b[0;34m=\u001b[0m\u001b[0;34m(\u001b[0m\u001b[0;36m16\u001b[0m\u001b[0;34m,\u001b[0m\u001b[0;36m10\u001b[0m\u001b[0;34m)\u001b[0m\u001b[0;34m)\u001b[0m\u001b[0;34m\u001b[0m\u001b[0;34m\u001b[0m\u001b[0m\n\u001b[0m",
            "\u001b[0;31mNameError\u001b[0m: name 'vis' is not defined"
          ]
        }
      ]
    },
    {
      "cell_type": "markdown",
      "source": [
        "Color Detection을 위해 사용한 L*a*b* 에서 L*는 값의 밝기, a*는 빨강과 초록 중 어느쪽으로 치우쳤는지, *b 는 노랑과 파랑 중 어디로 치우쳤는지를 나타냅니다. L*a*b* 색 공간은 RGB나 CMYK가 표현할 수 있는 모든 색상을 포함하여 나타낼 수 있고 인간이 지각할 수 없는 색상도 나타낼 수 있습니다. 하지만 위에서 우리가 정의한 color_dict의 경계에 모호한 경우는 사람이 인지하는 색상의 분류와 다르게 판단 될 수도 있습니다."
      ],
      "metadata": {
        "id": "Admpk2Ez1ZAu"
      }
    },
    {
      "cell_type": "markdown",
      "source": [
        "Ref: https://alphalog.co.kr/176\n"
      ],
      "metadata": {
        "id": "pfNPJ38EzbgB"
      }
    }
  ]
}