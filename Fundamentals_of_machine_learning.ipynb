{
 "cells": [
  {
   "cell_type": "markdown",
   "metadata": {},
   "source": [
    "# Chap04 - 머신러닝의 기본 요소"
   ]
  },
  {
   "cell_type": "markdown",
   "metadata": {},
   "source": [
    "## Goals\n",
    "\n",
    "- 모델 평가, 데이터 전처리, 특성 공학, 오버피팅에 대해 알아본다.\n",
    "\n",
    "- 머신러닝 문제 해결을 위한 작업 프로세스에 대해 알아본다."
   ]
  },
  {
   "cell_type": "markdown",
   "metadata": {},
   "source": [
    " "
   ]
  },
  {
   "cell_type": "markdown",
   "metadata": {},
   "source": [
    "## 4.1 머신러닝의 네 가지 분류\n",
    "\n",
    "- 일반적으로 머신러닝 알고리즘은 아래의 그림과 같이 4개의 범주안에 속한다.\n",
    "\n",
    "![](./images/types.png)"
   ]
  },
  {
   "cell_type": "markdown",
   "metadata": {},
   "source": [
    " "
   ]
  },
  {
   "cell_type": "markdown",
   "metadata": {},
   "source": [
    "### 4.1.1 지도 학습 (Supervised Learning)\n",
    "\n",
    "- 샘플 데이터가 주어지면 알고있는 타겟(레이블)에 입력 데이터를 매핑하는 방법을 학습한다.\n",
    "\n",
    "- 문자 판독, 음성 인식, 이미지 분류, 언어 번역 등이 지도학습에 속한다.\n",
    "\n",
    "\n",
    "- 지도학습은 대부분 분류(classification)와 회귀(regression)로 구성되지만 다음과 같은 특이한 변종도 많다.\n",
    "\n",
    "    - **시퀀스 생성**(sequence generation) : 사진이 주어지면 이를 설명하는 캡션을 생성한다. 시퀀스 생성은 일련의 분류 문제로 재구성할 수 있다.\n",
    "\n",
    "    - **구문 트리**(syntax tree) **예측** : 문장이 주어지면 분해된 구문 트리를 예측한다.\n",
    "\n",
    "    - **물체 감지**(object detection) : 사진이 주어지면 사진 안의 특정 물체 주위에 경계 상자(bounding box)를 그린다. 이것은 분류 문제로 표현되거나, 경계 상자의 좌표를 벡터 회귀로 예측하는 회귀 + 분류가 결합된 문제로 표현될 수 있다.\n",
    "\n",
    "    - **이미지 분할**(image segmentation) : 사진이 주어졌을 때 픽셀 단위로 특정 물체에 마스킹(masking)을 한다."
   ]
  },
  {
   "cell_type": "markdown",
   "metadata": {},
   "source": [
    " "
   ]
  },
  {
   "cell_type": "markdown",
   "metadata": {},
   "source": [
    "### 4.1.2 비지도 학습 (Unsupervised Learning)\n",
    "\n",
    "- 타겟(레이블)을 사용하지 않고, 입력 데이터에 대해 유의미한 정보를 찾는 방법이다.\n",
    "\n",
    "- 데이터 시각화, 데이터 압축, 데이터의 노이즈 제거, 데이터에 있는 상관관계를 더 잘 이해하기 위해 사용한다.\n",
    "\n",
    "- 비지도 학습으로는 대표적으로 **차원 축소**(dimensionality reduction)와 **군집**(clustering)이 있다."
   ]
  },
  {
   "cell_type": "markdown",
   "metadata": {},
   "source": [
    " "
   ]
  },
  {
   "cell_type": "markdown",
   "metadata": {},
   "source": [
    "### 4.1.3 준지도 학습 (Semi-supervised Learning)\n",
    "\n",
    "- 전체 데이터 중에서 일부에만 레이블되어 있는 경우에 대해 학습하는 방법을 말한다.\n",
    "\n",
    "- 대부분의 준지도 학습은 지도 학습과 비지도 학습의 조합으로 이루어진다."
   ]
  },
  {
   "cell_type": "markdown",
   "metadata": {},
   "source": [
    " "
   ]
  },
  {
   "cell_type": "markdown",
   "metadata": {},
   "source": [
    "### 4.1.4 자기 지도 학습 (Self-supervised Learning)\n",
    "\n",
    "- 자기 지도 학습은 지도 학습의 특별한 경우라고 할 수 있다.\n",
    "\n",
    "- 자기 지도 학습은 지도 학습이지만 사람이 만든 레이블을 사용하지 않는다.\n",
    "\n",
    "\n",
    "- 레이블이 필요하지만 보통 경험적인 알고리즘(heuristic algorithm)을 사용해서 입력 데이터로부터 생성한다.\n",
    "\n",
    "    - **오토인코더**(AutoEncoder)에서의 레이블은 입력 데이터 자신이다.\n",
    "\n",
    "    - 지난 프레임이 주어졌을 때 비디오의 다음 프레임을 예측\n",
    "\n",
    "    - 이전 단어가 주어졌을 때 다음 단어를 예측\n",
    "\n",
    "\n",
    "- 지도 학습, 자기 지도 학습, 비지도 학습의 구분은 때때로 모호할 수 있다.\n",
    "\n",
    "    - 오토인코더의 경우 타겟이 있으므로, (자기)지도학습으로 볼 수 있지만, 입력 데이터의 차원 축소 용도로 사용될 때는 비지도 학습으로 볼 수 있다."
   ]
  },
  {
   "cell_type": "markdown",
   "metadata": {},
   "source": [
    " "
   ]
  },
  {
   "cell_type": "markdown",
   "metadata": {},
   "source": [
    "### 4.1.5 강화 학습 (Reinforcement Learning)\n",
    "\n",
    "- 강화 학습에서 **에이전트**(agent)는 환경에 대한 정보를 받아 보상을 최대화하는 행동을 선택하도록 학습한다.\n",
    "\n",
    "<img src=\"./images/rl.png\" height=\"50%\" width=\"50%\"/>"
   ]
  },
  {
   "cell_type": "markdown",
   "metadata": {},
   "source": [
    " "
   ]
  },
  {
   "cell_type": "markdown",
   "metadata": {},
   "source": [
    "### 4.1.6 분류와 회귀에서 사용하는 용어\n",
    "\n",
    "| 용어                                                         | 설명                                                         |\n",
    "| ------------------------------------------------------------ | ------------------------------------------------------------ |\n",
    "| **샘플(sample)** 또는 **입력(input)**                        | 모델에 주입될 하나의 데이터 포인트                           |\n",
    "| **예측(predict)** 또는 **출력(output)**                      | 모델로부터 나오는 값                                         |\n",
    "| **타겟(Target)**                                             | 정답, 모델이 완벽하게 예측해야 하는 값                       |\n",
    "| **예측 오차(prediction error)** 또는 **손실 값(loss value)** : | 모델의 예측과 타깃 사이의 거리를 측정한 값                   |\n",
    "| **클래스(class)**                                            | 분류 문제에서 선택할 수 있는 레이블의 집합                   |\n",
    "| **레이블(label)**                                            | 분류 문제에서 클래스 할당의 구체적인 사례                    |\n",
    "| **Ground-truth** 또는 **Annotation**                         | 데이터에셋에 대한 모든 타겟. 일반적으로 사람에 의해 수집된다. |\n",
    "| **이진 분류**(Binary classification)                         | 각 입력 샘플이 2개의 범주로 구분되는 분류 작업               |\n",
    "| **다중 분류**(Multiclass classification)                     | 각 입력 샘플이 2개 이상의 범주로 구분되는 분류 작업          |\n",
    "| **다중 레이블 분류**(Multilabel classification)              | 각 입력 샘플이 여러 개의 레이블에 할당될 수 있는 분류 작업. 예를 들어 하나의 이미지에 고양이와 개가 있을 경우 '고양이'레이블과 '강아지'레이블이 모두 할당되어야 한다. |\n",
    "| **스칼라 회귀**(Scalar regression)                           | 타겟이 연속적인 스칼라 값인 작업                             |\n",
    "| **벡터 회귀**(Vector regression)                             | 타겟이 연속적인 값의 집합인 작업. 여러 값에 대한 회귀        |\n",
    "| **미니 배치** 또는 **배치**(Mini-batch)                      | 모델에 의해 동시에 처리되는 소량의 샘플 묶음. 일반적으로 8 ~ 128이며, 샘플의 개수는 GPU의 메모리 할당이 용이하도록 2의 거듭제곱으로 한다. 훈련할 때 미니 배치마다 경사 하강법 업데이트 값을 계산한다. |"
   ]
  },
  {
   "cell_type": "markdown",
   "metadata": {},
   "source": [
    " "
   ]
  },
  {
   "cell_type": "markdown",
   "metadata": {},
   "source": [
    "## 4.2 머신러닝 모델 평가\n",
    "\n",
    "- 머신러닝의 목표는 처음 존 데이터에서 잘 작동하는 **일반화(generalized)**된 모델을 얻는 것이다.\n"
   ]
  },
  {
   "cell_type": "markdown",
   "metadata": {},
   "source": [
    " "
   ]
  },
  {
   "cell_type": "markdown",
   "metadata": {},
   "source": [
    "### 4.2.1 훈련, 검증, 테스트 셋\n",
    "\n",
    "- 모델 평가의 핵심은 데이터를 항상 훈련(training), 검증(valid), 테스트(test) 3개의 세트로 나누는 것이다.\n",
    "\n",
    "    - 훈련 세트(training set)에서 모델을 훈련하고,\n",
    "    \n",
    "    - 검증 세트(validation set)에서 모델을 평가한다.\n",
    "    \n",
    "    - 테스트 세트를 이용해 모델을 테스트 한다.\n",
    "\n",
    "\n",
    "- 전체 데이터 셋을 훈련과 테스트 2개만으로 나누지 않는 이유는, 모델을 개발할 때 항상 모델의 설정을 튜닝하기 때문이다.\n",
    "\n",
    "    - 예를 들어, 층의 수나 층의 유닛 수를 조정할 수 있다. → 이러한 파라미터를 **하이퍼파라미터**(hyperparameter)라고 한다.\n",
    "\n",
    "\n",
    "- 검증 세트에서 모델의 성능을 평가하여 이런 튜닝을 수행한다.\n",
    "    \n",
    "    - 이러한 튜닝 또한 어떠한 파라미터 공간에서 좋은 설정값을 찾는 **학습**이라 할 수 있다.\n",
    "\n",
    "\n",
    "- 검증 세트를 이용해 설정을 튜닝하게 되면, **검증 세트에 오버피팅**될 수 있다.\n",
    "\n",
    "    - 이러한 현상은 검증 세트의 모델 성능에 기반하여 모델의 하이퍼파라미터를 조정할 때마다 검증 데이터에 관한 정보가 모델로 새기 때문이다. → **정보 누설**(information leak)\n",
    "\n",
    "\n",
    "- 따라서, 모델이 처음 본 데이터인 테스트 세트를 이용하여 모델을 평가한다.\n",
    "    \n",
    "    - 모델은 간접적으로라도 테스트 세트에 대한 어떠한 정보도 얻어서는 안된다.\n",
    "\n",
    "\n",
    "- 데이터를 훈련/검증/테스트 세트로 나누는 대표적인 방법으로는 다음과 같이 세가지 방법이 있다.\n",
    "    \n",
    "    - 홀드아웃 검증 (hold-out validation)\n",
    "    \n",
    "    - K-폴드 교차 검증 (K-fold cross-validation)\n",
    "    \n",
    "    - 셔플링(shuffling)을 사용한 iterated K-fold cross-validation\n"
   ]
  },
  {
   "cell_type": "markdown",
   "metadata": {},
   "source": [
    " "
   ]
  },
  {
   "cell_type": "markdown",
   "metadata": {},
   "source": [
    "#### Simple Hold-Out Validation\n",
    "\n",
    "- 전체 데이터 셋에서 일정량을 테스트 셋으로 떼어 놓는다.\n",
    "\n",
    "\n",
    "- 남은 데이터에서 훈련하고 검증 세트로 평가한다.\n",
    "\n",
    "\n",
    "\n",
    "![hold-out-validation](./images/hold-out.PNG)\n",
    "\n",
    "\n",
    "\n",
    "- `NumPy`를 이용한 홀드아웃 검증 구현 코드는 다음과 같다.\n",
    "\n",
    "```python\n",
    "import numpy as np\n",
    "\n",
    "num_validation_samples = 10000\n",
    "\n",
    "np.random.shuffle(data)  # 데이터를 섞는것이 일반적으로 좋다.\n",
    "\n",
    "validation_data = data[:num_validation_samples]  # 검증 셋을 만든다.\n",
    "training_data = data[num_validation_samples:]  # 훈련 셋을 만든다.\n",
    "```\n",
    "\n",
    "\n",
    "\n",
    "- `Scikit-learn`을 이용한 홀드아웃 검증 구현은 다음과 같다.\n",
    "\n",
    "```python\n",
    "from sklearn.model_selection import train_test_split\n",
    "\n",
    "train_dat, test_data, train_labels, test_labels = train_test_split(data, labels, test_size=0.33, random_state=42)\n",
    "```\n",
    "\n",
    "\n",
    "\n",
    "- 홀드아웃의 단점은 데이터가 적을 때, 검증 세트와 테스트 세트의 샘플이 너무 적어 주어진 전체 데이터를 통계적으로 대표하지 못할 수 있다.\n"
   ]
  },
  {
   "cell_type": "markdown",
   "metadata": {},
   "source": [
    " "
   ]
  },
  {
   "cell_type": "markdown",
   "metadata": {},
   "source": [
    "#### K-Fold Cross Validation\n",
    "\n",
    "- 데이터를 동일한 크기를 가진 `K`개의 분할로 나눈다.\n",
    "\n",
    "- 각 분할 `i`에 대해 남은 `K-1`개의 분할로 모델을 훈련하고 분할 `i`에 대해 모델을 평가한다.\n",
    "\n",
    "- 최종 점수는 `K`개의 점수의 평균을 구한다.\n",
    "\n",
    "- 모델의 성능이 데이터 분할에 때라 편차가 클 때 유용하다.\n",
    "\n",
    "- 모델의 튜닝에 별개의 검증 세트를 사용하게 된다.\n",
    "\n",
    "![k-fold_cross_validation](./images/k-fold.PNG)\n",
    "\n",
    "\n",
    "\n",
    "- K-fold cross validation의 구현 코드는 아래와 같다.\n",
    "\n",
    "```python\n",
    "k = 4\n",
    "num_validation_samples = len(data) // k\n",
    "\n",
    "np.random.shuffle(data)\n",
    "\n",
    "validation_scores = []\n",
    "for fold in range(k):\n",
    "    # 검증 데이터 부분을 선택한다.\n",
    "    validation_data = data[num_validation_samples * fold : num_validation_samples * (fold + 1)]\n",
    "    # 남은 데이터를 훈련 데이터로 사용한다. \n",
    "    # 리스트에서 + 연산자는 두 리스트를 연결한다.\n",
    "    training_data = data[:num_validation_samples * fold] + \n",
    "    \tdata[num+validation_samples * (fold + 1):]\n",
    "    \n",
    "    model = get_model()  # 훈련되지 않은 새로운 모델을 만든다.\n",
    "    model.train(training_data)\n",
    "    validation_score = model.evaluate(validation_data)\n",
    "    validation_scores.append(validation_score)\n",
    "    \n",
    "validation_score = np.average(validation_scores)  # 검증 점수: K개의 폴드에 대한 평균\n",
    "\n",
    "model = get_model()  \n",
    "model.train(data)  # 테스트 데이터를 제외한 전체 데이터로 최종 모델을 훈련\n",
    "test_score = model.evaluate(test_data)\n",
    "```\n",
    "\n",
    "\n",
    "\n",
    "- k-fold cross validation은 `scikit-learn`의 `cross_validate()`함수를 이용해 쉽게 구현할 수 있는데, 케라스 모델을 사이킷런과 호환되도록 `KerasClassifier`나 `KerasRegressor` 클래스로 모델을 감싸줘야 한다.\n",
    "\n",
    "```python\n",
    "from keras.wrappers.scikit_learn import KerasClassifier\n",
    "from sklearn.model_selection import cross_validate\n",
    "\n",
    "model = KerasClassifier(build_fn=get_model, epochs=150, batch_size=128, verbose=0)\n",
    "kfold = cross_validate(model, data, labels, cv=4)\n",
    "```"
   ]
  },
  {
   "cell_type": "markdown",
   "metadata": {},
   "source": [
    " "
   ]
  },
  {
   "cell_type": "markdown",
   "metadata": {},
   "source": [
    "#### Iterated K-fold Validation with Suffling\n",
    "\n",
    "- K-fold 검증을 여러 번 적용하되, `K`개의 분할로 나누기 전에 매번 데이터를 랜덤하게 섞는다.\n",
    "\n",
    "- `P x K`개(P는 반복 횟수)의 모델을 훈련하고 평가하기 때문에 비용이 매우 많이 든다.\n",
    "\n",
    "- 최종 점수는 모든 K-fold 검증(`P x K`)의 평균이다.\n",
    "\n",
    "- 데이터가 적고 가능한 정확하게 모델을 평가하고자 할 때 사용한다.\n",
    "\n",
    "- Kaggle에서는 이 방법이 매우 도움이 된다고 한다.\n",
    "\n",
    "- 이 방법에 대한 예제는 해당 링크에서 확인할 수 있다. → [[링크](https://tensorflow.blog/2017/12/27/%EB%B0%98%EB%B3%B5-%EA%B5%90%EC%B0%A8-%EA%B2%80%EC%A6%9D/)]"
   ]
  },
  {
   "cell_type": "markdown",
   "metadata": {},
   "source": [
    " "
   ]
  },
  {
   "cell_type": "markdown",
   "metadata": {},
   "source": [
    "### 4.2.2 유의해야 할 것\n",
    "\n",
    "1. **대표성 있는 데이터** : 훈련 세트와 테스트 세트로 나누기 전에 데이터를 랜덤하게 섞어 주는 것이 좋다.\n",
    "\n",
    "2. **시간의 방향** : 과거로 부터 미래를 예측해야 하는 시계열 데이터의 경우에는 데이터를 분할하기 전에 랜덤하게 섞어서는 절대로 안된다. 따라서, 테스트 데이터는 훈련 데이터보다 미래의 것이어야 한다.\n",
    "\n",
    "3. **데이터 중복** : 훈련 세트와 검증 세트가 중복되지 않아야 한다."
   ]
  },
  {
   "cell_type": "markdown",
   "metadata": {},
   "source": [
    " "
   ]
  },
  {
   "cell_type": "markdown",
   "metadata": {},
   "source": [
    "## 4.3 데이터 전처리, 특성 공학, 특성 학습"
   ]
  },
  {
   "cell_type": "markdown",
   "metadata": {},
   "source": [
    "### 4.3.1 신경망을 위한 데이터 전처리\n",
    "\n",
    "- 데이터 전처리(data preprocessing)의 목적은 주어진 원본 데이터를 신경망에 적용하기 쉽도록 만드는 것이다.\n",
    "\n",
    "- 벡터화(vectorization), 정규화(normalization), 누락된 값 다루기, 특성 추출(feature extraction) 등이 있다."
   ]
  },
  {
   "cell_type": "markdown",
   "metadata": {},
   "source": [
    " "
   ]
  },
  {
   "cell_type": "markdown",
   "metadata": {},
   "source": [
    "#### 벡터화 (Vectorization)\n",
    "\n",
    "- 신경망에서 모든 입력과 타겟(레이블)은 부동 소수(`float`)데이터(특정 경우에는 정수)로 이루어진 **텐서**(tensor)여야 한다.\n",
    "\n",
    "- 사운드, 이미지, 텍스트 등의 입력은 먼저 텐서로 변환해야 하는데 이러한 단계를 **데이터 벡터화(data vectorization)**라고 한다."
   ]
  },
  {
   "cell_type": "markdown",
   "metadata": {},
   "source": [
    " "
   ]
  },
  {
   "cell_type": "markdown",
   "metadata": {},
   "source": [
    "#### 정규화 (Normalization)\n",
    "\n",
    "- 신경망에서 입력 데이터는 네트워크에 주입하기 전에 각 특성(feature)별로 독립적으로 정규화 해줘야 한다.\n",
    "\n",
    "- 일반적으로 네트워크의 **가중치 초기값보다 큰 입력 데이터**이거나, 각 **특성의 범위가 균일하지 않는 데이터**(예를 들어 한 특성의 범위는 0~1, 다른 특성은 100~200인 경우)를 신경망에 주입하는 것은 좋지 않다.\n",
    "    - 이러한 경우에 업데이트할 그래디언트가 커져 네트워크가 제대로 수렴하지 못하는 문제가 발생한다.\n",
    "\n",
    "\n",
    "- 네트워크가 쉽게 학습하기 위해서는 입력 데이터가 다음과 같은 특징을 따라야 한다.\n",
    "    - **작은 값**이어야 한다. 일반적으로 `0 ~ 1` 사이로 정규화 한다. \n",
    "        - 자주 사용 되는 방법은 각 특성이 평균이 0이고, 표준편차가 1이되도록 정규화 해준다.\n",
    "    - **균일**해야 한다. 모든 특성이 비슷한 범위를 가져야 한다."
   ]
  },
  {
   "cell_type": "markdown",
   "metadata": {},
   "source": [
    " "
   ]
  },
  {
   "cell_type": "markdown",
   "metadata": {},
   "source": [
    "#### 누락된 값(Missing Values) 다루기\n",
    "\n",
    "- 이따금 데이터에는 누락된 값(결측값, missing values)이 있을 수 있다.\n",
    "\n",
    "\n",
    "- 일반적으로 신경망에서 `0`이 특별한 의미를 가지는 값이 아니라면, 누락된 값을 `0`으로 입력해도 된다.\n",
    "   \n",
    "   - 네트워크가 `0`이 누락된 데이터를 의미한다는 것을 학습하면, 이 값을 무시하게 된다.\n",
    "\n",
    "\n",
    "- 훈련(training) 세트에 누락된 값을 해당 특성의 평균(mean) 또는 중간값(median)으로 대체할 경우에는 그 값을 저장해 놓아야 한다.\n",
    "    \n",
    "    - 테스트 세트에서 해당 특성에 누락된 값이 있다면 훈련 세트에서 구한 값으로 채워줘야 한다.\n",
    "    \n",
    "    - 마찬 가지로 검증 데이터 세트에도 동일하게 훈련 세트에서 구한 값으로 채워준다.\n",
    "\n",
    "\n",
    "- 훈련 세트에는 결측값이 없는데 테스트 세트에서는 결측값이 있을 경우에는 네트워크는 결측값을 무시하는 법을 알지 못한다.\n",
    "    \n",
    "    - 이럴 경우에는 누락된 값이 있는 훈련 샘플을 임의로 만들어줘야 한다.\n"
   ]
  },
  {
   "cell_type": "markdown",
   "metadata": {},
   "source": [
    " "
   ]
  },
  {
   "cell_type": "markdown",
   "metadata": {},
   "source": [
    "### 4.3.2 특성 공학 (Feature Engineering)\n",
    "\n",
    "- 특성 공학은 데이터와 머신러닝 알고리즘에 관한 지식을 사용하는 것이라 할 수 있다.\n",
    "\n",
    "- 모델에 데이터를 주입하기 전에 **하드코딩**된 변환을 적용하여 알고리즘이 더 잘 수행되도록 만들어 준다.\n",
    "\n",
    "    - 모델이 잘 학습할 수 있도록 데이터를 재 표현하는 방법을 의미한다.\n",
    "\n",
    "\n",
    "- 특성 공학의 핵심은 특성을 더 간단한 방식으로 표현하여 문제를 쉽게 만드는 것이다.\n",
    "\n",
    "- 딥러닝에서는 신경망이 자동으로 원본 데이터에서 유용한 특성을 추출할 수 있기 때문에 특성 공학의 중요도가 높진 않다.\n",
    "\n",
    "    - 하지만, 특성 공학을 사용하면 다음과 같은 장점이 있다.\n",
    "    \n",
    "        - 좋은 특성은 적은 자원을 사용해 문제를 쉽게 해결할 수 있다.\n",
    "    \n",
    "        - 좋은 특성은 더 적은 데이터로 문제를 풀 수 있다."
   ]
  },
  {
   "cell_type": "markdown",
   "metadata": {},
   "source": [
    " "
   ]
  },
  {
   "cell_type": "markdown",
   "metadata": {},
   "source": [
    "## 4.4. 과대적합과 과소적합\n",
    "\n",
    "![](./images/overfitting.png)\n",
    "\n",
    "\n",
    "\n",
    "\n",
    "- 머신러닝의 근본적인 이슈는 최적화와 일반화 사이의 줄다리기라고 할 수 있다.\n",
    "\n",
    "- **최적화**(optimization)는 훈련 데이터에서 최고의 성능을 얻기위해 모델을 조정하는 과정이다 → 학습(learning)\n",
    "\n",
    "- **일반화**(generalization)는 학습된 모델이 새로운 데이터에 대해 얼마나 잘 수행하는지를 의미한다.\n",
    "\n",
    "- **과소적합**(underfitting)은 훈련 데이터의 손실이 낮아질수록 검증 데이터의 손실도 낮아지는 단계를 말한다.\n",
    "\n",
    "\n",
    "- **과대적합**(overfitting)은 훈련 데이터의 손실은 낮아지지만 검증 세트의 손실이 증가하게 되는 상황을 말한다.\n",
    "    \n",
    "    - 훈련 데이터에 특화된 패턴을 학습하기 시작했다는 의미이다.\n",
    "    \n",
    "    - 과대적합을 없애기 위해서 가장 좋은 방법은 **더 많은 훈련 데이터를 모으는 것이다.**\n",
    "    \n",
    "    - 데이터를 더 모으는 것이 불가능할 때 모델이 훈련 데이터에서 학습할 수 있는 패턴에 제약을 가해 과대적합을 피할 수 있는데, 이를 **규제(regularization)**라고 한다.\n",
    "\n",
    "\n",
    "\n",
    "![](./images/overfitting04.png)"
   ]
  },
  {
   "cell_type": "markdown",
   "metadata": {},
   "source": [
    " "
   ]
  },
  {
   "cell_type": "markdown",
   "metadata": {},
   "source": [
    "### 4.4.1 네트워크 크기 축소\n",
    "\n",
    "- 과대적합을 막는 가장 단순한 방법은 모델의 크기, 모델에 있는 학습 파라미터의 수를 줄이는 것이다.\n",
    "\n",
    "    - 파라미터의 수는 층의 수와 각 층의 유닛 수에 의해 결정된다.\n",
    "    \n",
    "    - 딥러닝에서 모델에 있는 학습 파라미터의 수를 모델의 용량(capacity)라고도 한다.\n",
    "\n",
    "\n",
    "- 적절한 모델 크기를 찾는 일반적인 작업 흐름은 우선 적은 수의 층과 파라미터로 시작한다. 그런 다음 검증 손실이 감소되기 시작할 때까지 층이나 유닛의 수를 늘려 나간다."
   ]
  },
  {
   "cell_type": "markdown",
   "metadata": {},
   "source": [
    "---"
   ]
  },
  {
   "cell_type": "markdown",
   "metadata": {},
   "source": [
    "### 실습"
   ]
  },
  {
   "cell_type": "markdown",
   "metadata": {},
   "source": [
    "- 노트: 이 노트북에서는 편의상 IMDB 테스트 세트를 검증 세트로 사용합니다.\n",
    "\n",
    "- [3.4 영화 리뷰 분류](https://github.com/ExcelsiorCJH/Deep-Learning-with-Python/blob/master/Chap03-Getting_started_with_neural_networks/3.4-classifying_movie_reviews.ipynb)절에 있는 코드를 사용해 데이터를 준비합니다:"
   ]
  },
  {
   "cell_type": "code",
   "execution_count": 1,
   "metadata": {},
   "outputs": [
    {
     "name": "stderr",
     "output_type": "stream",
     "text": [
      "Using TensorFlow backend.\n"
     ]
    },
    {
     "data": {
      "text/plain": [
       "'2.2.4'"
      ]
     },
     "execution_count": 1,
     "metadata": {},
     "output_type": "execute_result"
    }
   ],
   "source": [
    "import keras\n",
    "keras.__version__"
   ]
  },
  {
   "cell_type": "code",
   "execution_count": 3,
   "metadata": {},
   "outputs": [
    {
     "name": "stdout",
     "output_type": "stream",
     "text": [
      "train_data.shape : (25000, 10000)\n",
      "train_labels.shape : (25000,)\n",
      "test_data.shape : (25000, 10000)\n",
      "test_labels.shape : (25000,)\n"
     ]
    }
   ],
   "source": [
    "from keras.datasets import imdb\n",
    "import numpy as np\n",
    "\n",
    "(train_data, train_labels), (test_data, test_labels) = imdb.load_data(num_words=10000)\n",
    "\n",
    "def vectorize_sequences(sequences, dimension=10000):\n",
    "    # 크기가 (len(sequences), dimension))이고 모든 원소가 0인 행렬을 만듭니다\n",
    "    results = np.zeros((len(sequences), dimension))\n",
    "    for idx, sequence in enumerate(sequences):\n",
    "        results[idx, sequence] = 1  # results[i]에서 특정 인덱스의 위치를 1로 만듭니다\n",
    "    return results\n",
    "\n",
    "# 훈련 데이터를 벡터로 변환합니다\n",
    "x_train = vectorize_sequences(train_data)\n",
    "# 테스트 데이터를 벡터로 변환합니다\n",
    "x_test = vectorize_sequences(test_data)\n",
    "# 레이블을 벡터로 변환합니다\n",
    "y_train = np.asarray(train_labels).astype('float32')\n",
    "y_test = np.asarray(test_labels).astype('float32')\n",
    "\n",
    "print('train_data.shape : {}'.format(x_train.shape))\n",
    "print('train_labels.shape : {}'.format(y_train.shape))\n",
    "print('test_data.shape : {}'.format(x_test.shape))\n",
    "print('test_labels.shape : {}'.format(y_test.shape))"
   ]
  },
  {
   "cell_type": "markdown",
   "metadata": {},
   "source": [
    " "
   ]
  },
  {
   "cell_type": "markdown",
   "metadata": {},
   "source": [
    "영화 리뷰 분류 모델에 적용해 보죠. 원래 네트워크는 다음과 같습니다:"
   ]
  },
  {
   "cell_type": "code",
   "execution_count": 11,
   "metadata": {},
   "outputs": [
    {
     "name": "stdout",
     "output_type": "stream",
     "text": [
      "_________________________________________________________________\n",
      "Layer (type)                 Output Shape              Param #   \n",
      "=================================================================\n",
      "dense_1 (Dense)              (None, 16)                160016    \n",
      "_________________________________________________________________\n",
      "dense_2 (Dense)              (None, 16)                272       \n",
      "_________________________________________________________________\n",
      "dense_3 (Dense)              (None, 1)                 17        \n",
      "=================================================================\n",
      "Total params: 160,305\n",
      "Trainable params: 160,305\n",
      "Non-trainable params: 0\n",
      "_________________________________________________________________\n"
     ]
    }
   ],
   "source": [
    "from keras import models\n",
    "from keras import layers\n",
    "from keras import backend as K\n",
    "\n",
    "K.clear_session()\n",
    "\n",
    "original_model = models.Sequential()\n",
    "original_model.add(layers.Dense(16, activation='relu', input_shape=(10000,)))\n",
    "original_model.add(layers.Dense(16, activation='relu'))\n",
    "original_model.add(layers.Dense(1, activation='sigmoid'))\n",
    "\n",
    "original_model.compile(optimizer='rmsprop', \n",
    "                       loss='binary_crossentropy',\n",
    "                       metrics=['acc'])\n",
    "\n",
    "original_model.summary()"
   ]
  },
  {
   "cell_type": "markdown",
   "metadata": {},
   "source": [
    " "
   ]
  },
  {
   "cell_type": "markdown",
   "metadata": {},
   "source": [
    "더 작은 네트워크로 바꾸어 보죠:"
   ]
  },
  {
   "cell_type": "code",
   "execution_count": 12,
   "metadata": {},
   "outputs": [
    {
     "name": "stdout",
     "output_type": "stream",
     "text": [
      "_________________________________________________________________\n",
      "Layer (type)                 Output Shape              Param #   \n",
      "=================================================================\n",
      "dense_4 (Dense)              (None, 6)                 60006     \n",
      "_________________________________________________________________\n",
      "dense_5 (Dense)              (None, 6)                 42        \n",
      "_________________________________________________________________\n",
      "dense_6 (Dense)              (None, 1)                 7         \n",
      "=================================================================\n",
      "Total params: 60,055\n",
      "Trainable params: 60,055\n",
      "Non-trainable params: 0\n",
      "_________________________________________________________________\n"
     ]
    }
   ],
   "source": [
    "smaller_model = models.Sequential()\n",
    "smaller_model.add(layers.Dense(6, activation='relu', input_shape=(10000,)))\n",
    "smaller_model.add(layers.Dense(6, activation='relu'))\n",
    "smaller_model.add(layers.Dense(1, activation='sigmoid'))\n",
    "\n",
    "smaller_model.compile(optimizer='rmsprop',\n",
    "                      loss='binary_crossentropy',\n",
    "                      metrics=['acc'])\n",
    "\n",
    "smaller_model.summary()"
   ]
  },
  {
   "cell_type": "markdown",
   "metadata": {},
   "source": [
    " "
   ]
  },
  {
   "cell_type": "markdown",
   "metadata": {},
   "source": [
    "원본 네트워크와 축소된 네트워크의 검증 손실을 비교해 보죠. 점으로 표현된 것이 작은 네트워크이고 덧셈 기호가 원래 네트워크 입니다(검증 손실이 작은 것이 좋은 모델입니다)."
   ]
  },
  {
   "cell_type": "code",
   "execution_count": 13,
   "metadata": {},
   "outputs": [
    {
     "name": "stdout",
     "output_type": "stream",
     "text": [
      "Train on 25000 samples, validate on 25000 samples\n",
      "Epoch 1/20\n",
      "25000/25000 [==============================] - 3s 129us/step - loss: 0.4606 - acc: 0.8173 - val_loss: 0.3495 - val_acc: 0.8751\n",
      "Epoch 2/20\n",
      "25000/25000 [==============================] - 1s 49us/step - loss: 0.2628 - acc: 0.9118 - val_loss: 0.3247 - val_acc: 0.8658\n",
      "Epoch 3/20\n",
      "25000/25000 [==============================] - 1s 48us/step - loss: 0.2039 - acc: 0.9267 - val_loss: 0.2822 - val_acc: 0.8879\n",
      "Epoch 4/20\n",
      "25000/25000 [==============================] - 1s 48us/step - loss: 0.1719 - acc: 0.9388 - val_loss: 0.2913 - val_acc: 0.8838\n",
      "Epoch 5/20\n",
      "25000/25000 [==============================] - 1s 46us/step - loss: 0.1483 - acc: 0.9485 - val_loss: 0.3185 - val_acc: 0.8764\n",
      "Epoch 6/20\n",
      "25000/25000 [==============================] - 1s 49us/step - loss: 0.1296 - acc: 0.9564 - val_loss: 0.3280 - val_acc: 0.8768\n",
      "Epoch 7/20\n",
      "25000/25000 [==============================] - 1s 50us/step - loss: 0.1157 - acc: 0.9594 - val_loss: 0.3525 - val_acc: 0.8723\n",
      "Epoch 8/20\n",
      "25000/25000 [==============================] - 1s 49us/step - loss: 0.1017 - acc: 0.9664 - val_loss: 0.3833 - val_acc: 0.8670\n",
      "Epoch 9/20\n",
      "25000/25000 [==============================] - 1s 48us/step - loss: 0.0898 - acc: 0.9714 - val_loss: 0.4070 - val_acc: 0.8654\n",
      "Epoch 10/20\n",
      "25000/25000 [==============================] - 1s 48us/step - loss: 0.0785 - acc: 0.9750 - val_loss: 0.4194 - val_acc: 0.8666\n",
      "Epoch 11/20\n",
      "25000/25000 [==============================] - 1s 48us/step - loss: 0.0711 - acc: 0.9778 - val_loss: 0.4570 - val_acc: 0.8634\n",
      "Epoch 12/20\n",
      "25000/25000 [==============================] - 1s 49us/step - loss: 0.0586 - acc: 0.9838 - val_loss: 0.4955 - val_acc: 0.8596\n",
      "Epoch 13/20\n",
      "25000/25000 [==============================] - 1s 49us/step - loss: 0.0509 - acc: 0.9860 - val_loss: 0.5206 - val_acc: 0.8583\n",
      "Epoch 14/20\n",
      "25000/25000 [==============================] - 1s 48us/step - loss: 0.0452 - acc: 0.9870 - val_loss: 0.5431 - val_acc: 0.8583\n",
      "Epoch 15/20\n",
      "25000/25000 [==============================] - 1s 49us/step - loss: 0.0398 - acc: 0.9888 - val_loss: 0.5772 - val_acc: 0.8562\n",
      "Epoch 16/20\n",
      "25000/25000 [==============================] - 1s 49us/step - loss: 0.0316 - acc: 0.9915 - val_loss: 0.6061 - val_acc: 0.8549\n",
      "Epoch 17/20\n",
      "25000/25000 [==============================] - 1s 49us/step - loss: 0.0259 - acc: 0.9938 - val_loss: 0.6447 - val_acc: 0.8543\n",
      "Epoch 18/20\n",
      "25000/25000 [==============================] - 1s 49us/step - loss: 0.0223 - acc: 0.9951 - val_loss: 0.6791 - val_acc: 0.8528\n",
      "Epoch 19/20\n",
      "25000/25000 [==============================] - 1s 48us/step - loss: 0.0197 - acc: 0.9953 - val_loss: 0.7286 - val_acc: 0.8525\n",
      "Epoch 20/20\n",
      "25000/25000 [==============================] - 1s 49us/step - loss: 0.0140 - acc: 0.9972 - val_loss: 0.7674 - val_acc: 0.8514\n"
     ]
    }
   ],
   "source": [
    "original_hist = original_model.fit(x_train, y_train,\n",
    "                                   epochs=20,\n",
    "                                   batch_size=512,\n",
    "                                   validation_data=(x_test, y_test))"
   ]
  },
  {
   "cell_type": "markdown",
   "metadata": {},
   "source": [
    " "
   ]
  },
  {
   "cell_type": "code",
   "execution_count": 14,
   "metadata": {},
   "outputs": [
    {
     "name": "stdout",
     "output_type": "stream",
     "text": [
      "Train on 25000 samples, validate on 25000 samples\n",
      "Epoch 1/20\n",
      "25000/25000 [==============================] - 1s 55us/step - loss: 0.5053 - acc: 0.8091 - val_loss: 0.4055 - val_acc: 0.8645\n",
      "Epoch 2/20\n",
      "25000/25000 [==============================] - 1s 49us/step - loss: 0.3203 - acc: 0.9032 - val_loss: 0.3199 - val_acc: 0.8855\n",
      "Epoch 3/20\n",
      "25000/25000 [==============================] - 1s 48us/step - loss: 0.2420 - acc: 0.9228 - val_loss: 0.2882 - val_acc: 0.8880\n",
      "Epoch 4/20\n",
      "25000/25000 [==============================] - 1s 50us/step - loss: 0.2004 - acc: 0.9328 - val_loss: 0.2807 - val_acc: 0.8886\n",
      "Epoch 5/20\n",
      "25000/25000 [==============================] - 1s 49us/step - loss: 0.1735 - acc: 0.9428 - val_loss: 0.2859 - val_acc: 0.8854\n",
      "Epoch 6/20\n",
      "25000/25000 [==============================] - 1s 50us/step - loss: 0.1543 - acc: 0.9480 - val_loss: 0.2927 - val_acc: 0.8826\n",
      "Epoch 7/20\n",
      "25000/25000 [==============================] - 1s 49us/step - loss: 0.1383 - acc: 0.9537 - val_loss: 0.3056 - val_acc: 0.8808\n",
      "Epoch 8/20\n",
      "25000/25000 [==============================] - 1s 49us/step - loss: 0.1265 - acc: 0.9586 - val_loss: 0.3185 - val_acc: 0.8789\n",
      "Epoch 9/20\n",
      "25000/25000 [==============================] - 1s 49us/step - loss: 0.1141 - acc: 0.9638 - val_loss: 0.3350 - val_acc: 0.8760\n",
      "Epoch 10/20\n",
      "25000/25000 [==============================] - 1s 49us/step - loss: 0.1053 - acc: 0.9667 - val_loss: 0.3528 - val_acc: 0.8726\n",
      "Epoch 11/20\n",
      "25000/25000 [==============================] - 1s 49us/step - loss: 0.0953 - acc: 0.9700 - val_loss: 0.3729 - val_acc: 0.8704\n",
      "Epoch 12/20\n",
      "25000/25000 [==============================] - 1s 50us/step - loss: 0.0872 - acc: 0.9728 - val_loss: 0.3969 - val_acc: 0.8670\n",
      "Epoch 13/20\n",
      "25000/25000 [==============================] - 1s 49us/step - loss: 0.0797 - acc: 0.9761 - val_loss: 0.4131 - val_acc: 0.8655\n",
      "Epoch 14/20\n",
      "25000/25000 [==============================] - 1s 49us/step - loss: 0.0727 - acc: 0.9774 - val_loss: 0.4336 - val_acc: 0.8642\n",
      "Epoch 15/20\n",
      "25000/25000 [==============================] - 1s 50us/step - loss: 0.0667 - acc: 0.9803 - val_loss: 0.4610 - val_acc: 0.8624\n",
      "Epoch 16/20\n",
      "25000/25000 [==============================] - 1s 48us/step - loss: 0.0598 - acc: 0.9828 - val_loss: 0.4918 - val_acc: 0.8597\n",
      "Epoch 17/20\n",
      "25000/25000 [==============================] - 1s 49us/step - loss: 0.0550 - acc: 0.9848 - val_loss: 0.5060 - val_acc: 0.8588\n",
      "Epoch 18/20\n",
      "25000/25000 [==============================] - 1s 48us/step - loss: 0.0498 - acc: 0.9872 - val_loss: 0.5534 - val_acc: 0.8553\n",
      "Epoch 19/20\n",
      "25000/25000 [==============================] - 1s 49us/step - loss: 0.0459 - acc: 0.9880 - val_loss: 0.5609 - val_acc: 0.8555\n",
      "Epoch 20/20\n",
      "25000/25000 [==============================] - 1s 49us/step - loss: 0.0411 - acc: 0.9892 - val_loss: 0.5941 - val_acc: 0.8534\n"
     ]
    }
   ],
   "source": [
    "smaller_model_hist = smaller_model.fit(x_train, y_train,\n",
    "                                       epochs=20,\n",
    "                                       batch_size=512,\n",
    "                                       validation_data=(x_test, y_test))"
   ]
  },
  {
   "cell_type": "markdown",
   "metadata": {},
   "source": [
    " "
   ]
  },
  {
   "cell_type": "code",
   "execution_count": 15,
   "metadata": {},
   "outputs": [],
   "source": [
    "%matplotlib inline\n",
    "import matplotlib.pyplot as plt"
   ]
  },
  {
   "cell_type": "code",
   "execution_count": 16,
   "metadata": {},
   "outputs": [],
   "source": [
    "epochs = range(1, 21)\n",
    "original_val_loss = original_hist.history['val_loss']\n",
    "smaller_model_val_loss = smaller_model_hist.history['val_loss']"
   ]
  },
  {
   "cell_type": "code",
   "execution_count": 17,
   "metadata": {},
   "outputs": [
    {
     "data": {
      "image/png": "[encoded data removed]",
      "text/plain": [
       "<Figure size 432x288 with 1 Axes>"
      ]
     },
     "metadata": {},
     "output_type": "display_data"
    }
   ],
   "source": [
    "# ‘b+’는 파란색 덧셈 기호을 의미합니다\n",
    "plt.plot(epochs, original_val_loss, 'b+', label='Original model')\n",
    "# ‘bo’는 파란색 점을 의미합니다\n",
    "plt.plot(epochs, smaller_model_val_loss, 'bo', label='Smaller model')\n",
    "plt.xlabel('Epochs')\n",
    "plt.ylabel('Validation loss')\n",
    "plt.legend()\n",
    "\n",
    "plt.show()"
   ]
  },
  {
   "cell_type": "markdown",
   "metadata": {},
   "source": [
    " "
   ]
  },
  {
   "cell_type": "markdown",
   "metadata": {},
   "source": [
    "여기서 볼 수 있듯이 작은 네트워크가 기본 네트워크보다 더 나중에 과대적합되기 시작했습니다(네 번째 에포크가 아니라 여섯 번째 에포크에서). 과대적합이 시작되었을 때 성능이 더 천천히 감소되었습니다.\n",
    "\n",
    "이번에는 문제에 필요한 것보다 훨씬 더 많은 용량을 가진 네트워크를 비교해 보겠습니다:"
   ]
  },
  {
   "cell_type": "code",
   "execution_count": 18,
   "metadata": {},
   "outputs": [
    {
     "name": "stdout",
     "output_type": "stream",
     "text": [
      "_________________________________________________________________\n",
      "Layer (type)                 Output Shape              Param #   \n",
      "=================================================================\n",
      "dense_7 (Dense)              (None, 1024)              10241024  \n",
      "_________________________________________________________________\n",
      "dense_8 (Dense)              (None, 1024)              1049600   \n",
      "_________________________________________________________________\n",
      "dense_9 (Dense)              (None, 1)                 1025      \n",
      "=================================================================\n",
      "Total params: 11,291,649\n",
      "Trainable params: 11,291,649\n",
      "Non-trainable params: 0\n",
      "_________________________________________________________________\n"
     ]
    }
   ],
   "source": [
    "bigger_model = models.Sequential()\n",
    "bigger_model.add(layers.Dense(1024, activation='relu', input_shape=(10000,)))\n",
    "bigger_model.add(layers.Dense(1024, activation='relu'))\n",
    "bigger_model.add(layers.Dense(1, activation='sigmoid'))\n",
    "\n",
    "bigger_model.compile(optimizer='rmsprop',\n",
    "                     loss='binary_crossentropy',\n",
    "                     metrics=['acc'])\n",
    "\n",
    "bigger_model.summary()"
   ]
  },
  {
   "cell_type": "code",
   "execution_count": 19,
   "metadata": {},
   "outputs": [
    {
     "name": "stdout",
     "output_type": "stream",
     "text": [
      "Train on 25000 samples, validate on 25000 samples\n",
      "Epoch 1/20\n",
      "25000/25000 [==============================] - 2s 71us/step - loss: 0.5460 - acc: 0.7878 - val_loss: 0.2757 - val_acc: 0.8888\n",
      "Epoch 2/20\n",
      "25000/25000 [==============================] - 1s 59us/step - loss: 0.2183 - acc: 0.9144 - val_loss: 0.3216 - val_acc: 0.8716\n",
      "Epoch 3/20\n",
      "25000/25000 [==============================] - 2s 62us/step - loss: 0.1230 - acc: 0.9591 - val_loss: 0.3361 - val_acc: 0.8868\n",
      "Epoch 4/20\n",
      "25000/25000 [==============================] - 2s 65us/step - loss: 0.0510 - acc: 0.9832 - val_loss: 0.4724 - val_acc: 0.8836\n",
      "Epoch 5/20\n",
      "25000/25000 [==============================] - 2s 62us/step - loss: 0.0783 - acc: 0.9875 - val_loss: 0.5107 - val_acc: 0.8838\n",
      "Epoch 6/20\n",
      "25000/25000 [==============================] - 2s 61us/step - loss: 4.9197e-04 - acc: 1.0000 - val_loss: 0.6768 - val_acc: 0.8828\n",
      "Epoch 7/20\n",
      "25000/25000 [==============================] - 2s 61us/step - loss: 0.1128 - acc: 0.9881 - val_loss: 0.7698 - val_acc: 0.8705\n",
      "Epoch 8/20\n",
      "25000/25000 [==============================] - 1s 58us/step - loss: 1.4137e-04 - acc: 1.0000 - val_loss: 0.7407 - val_acc: 0.8832\n",
      "Epoch 9/20\n",
      "25000/25000 [==============================] - 2s 61us/step - loss: 1.7644e-05 - acc: 1.0000 - val_loss: 0.8058 - val_acc: 0.8831\n",
      "Epoch 10/20\n",
      "25000/25000 [==============================] - 1s 60us/step - loss: 3.3726e-06 - acc: 1.0000 - val_loss: 0.8795 - val_acc: 0.8822\n",
      "Epoch 11/20\n",
      "25000/25000 [==============================] - 2s 62us/step - loss: 6.1982e-07 - acc: 1.0000 - val_loss: 0.9518 - val_acc: 0.8824\n",
      "Epoch 12/20\n",
      "25000/25000 [==============================] - 2s 61us/step - loss: 2.0322e-07 - acc: 1.0000 - val_loss: 0.9948 - val_acc: 0.8828\n",
      "Epoch 13/20\n",
      "25000/25000 [==============================] - 2s 62us/step - loss: 1.2971e-07 - acc: 1.0000 - val_loss: 1.0312 - val_acc: 0.8829\n",
      "Epoch 14/20\n",
      "25000/25000 [==============================] - 2s 62us/step - loss: 1.1709e-07 - acc: 1.0000 - val_loss: 1.0451 - val_acc: 0.8826\n",
      "Epoch 15/20\n",
      "25000/25000 [==============================] - 2s 64us/step - loss: 1.1352e-07 - acc: 1.0000 - val_loss: 1.0550 - val_acc: 0.8827\n",
      "Epoch 16/20\n",
      "25000/25000 [==============================] - 1s 58us/step - loss: 1.1214e-07 - acc: 1.0000 - val_loss: 1.0613 - val_acc: 0.8826\n",
      "Epoch 17/20\n",
      "25000/25000 [==============================] - 2s 61us/step - loss: 1.1138e-07 - acc: 1.0000 - val_loss: 1.0652 - val_acc: 0.8823\n",
      "Epoch 18/20\n",
      "25000/25000 [==============================] - 2s 65us/step - loss: 1.1085e-07 - acc: 1.0000 - val_loss: 1.0702 - val_acc: 0.8826\n",
      "Epoch 19/20\n",
      "25000/25000 [==============================] - 1s 56us/step - loss: 1.1054e-07 - acc: 1.0000 - val_loss: 1.0739 - val_acc: 0.8827\n",
      "Epoch 20/20\n",
      "25000/25000 [==============================] - 2s 62us/step - loss: 1.1038e-07 - acc: 1.0000 - val_loss: 1.0765 - val_acc: 0.8827\n"
     ]
    }
   ],
   "source": [
    "bigger_model_hist = bigger_model.fit(x_train, y_train,\n",
    "                                     epochs=20,\n",
    "                                     batch_size=512,\n",
    "                                     validation_data=(x_test, y_test))"
   ]
  },
  {
   "cell_type": "markdown",
   "metadata": {},
   "source": [
    " "
   ]
  },
  {
   "cell_type": "markdown",
   "metadata": {},
   "source": [
    "다음은 더 큰 네트워크가 기본 네트워크에 비해 얼마나 차이나는지를 보여줍니다. 점이 용량이 큰 네트워크의 검증 손실이고 덧셈 기호는 원본 네트워크의 검증 손실입니다."
   ]
  },
  {
   "cell_type": "code",
   "execution_count": 20,
   "metadata": {},
   "outputs": [
    {
     "data": {
      "image/png": "[encoded data removed]",
      "text/plain": [
       "<Figure size 432x288 with 1 Axes>"
      ]
     },
     "metadata": {},
     "output_type": "display_data"
    }
   ],
   "source": [
    "bigger_model_val_loss = bigger_model_hist.history['val_loss']\n",
    "\n",
    "plt.plot(epochs, original_val_loss, 'b+', label='Original model')\n",
    "plt.plot(epochs, bigger_model_val_loss, 'bo', label='Bigger model')\n",
    "plt.xlabel('Epochs')\n",
    "plt.ylabel('Validation loss')\n",
    "plt.legend()\n",
    "\n",
    "plt.show()"
   ]
  },
  {
   "cell_type": "markdown",
   "metadata": {},
   "source": [
    " "
   ]
  },
  {
   "cell_type": "markdown",
   "metadata": {},
   "source": [
    "용량이 큰 네트워크는 첫 번째 에포크 이후 거의 바로 과대적합이 시작되어 갈수록 더 심해집니다. 검증 손실도 매우 불안정합니다.\n",
    "\n",
    "다음은 두 네트워크의 훈련 손실입니다:"
   ]
  },
  {
   "cell_type": "code",
   "execution_count": 21,
   "metadata": {},
   "outputs": [
    {
     "data": {
      "image/png": "[encoded data removed]",
      "text/plain": [
       "<Figure size 432x288 with 1 Axes>"
      ]
     },
     "metadata": {},
     "output_type": "display_data"
    }
   ],
   "source": [
    "original_train_loss = original_hist.history['loss']\n",
    "bigger_model_train_loss = bigger_model_hist.history['loss']\n",
    "\n",
    "plt.plot(epochs, original_train_loss, 'b+', label='Original model')\n",
    "plt.plot(epochs, bigger_model_train_loss, 'bo', label='Bigger model')\n",
    "plt.xlabel('Epochs')\n",
    "plt.ylabel('Training loss')\n",
    "plt.legend()\n",
    "\n",
    "plt.show()"
   ]
  },
  {
   "cell_type": "markdown",
   "metadata": {},
   "source": [
    " "
   ]
  },
  {
   "cell_type": "markdown",
   "metadata": {},
   "source": [
    "여기서 볼 수 있듯이 용량이 큰 네트워크는 훈련 손실이 매우 빠르게 0에 가까워집니다. 용량이 많은 네트워크일수록 더 빠르게 훈련 데이터를 모델링할 수 있습니다(결국 훈련 손실이 낮아집니다). 하지만 더욱 과대적합에 민감해집니다(결국 훈련과 검증 손실 사이에 큰 차이가 발생합니다)."
   ]
  },
  {
   "cell_type": "markdown",
   "metadata": {},
   "source": [
    " "
   ]
  },
  {
   "cell_type": "markdown",
   "metadata": {},
   "source": [
    "### 4.4.2 가중치 규제 추가\n",
    "\n",
    "- **오컴의 면도날**(Occam's razor) : 어떤 것에 대한 두가지의 설명이 있다면 더 적은 가정이 필요한 간단한 설명이 옳을 것이라는 이론\n",
    "    \n",
    "    - 이러한 이론은 딥러닝 모델에도 적용된다.\n",
    "\n",
    "\n",
    "- 복잡한 모델이 간단한 모델보다 과대적합될 가능성이 높다.\n",
    "\n",
    "- 간단한 모델은 적은 수의 파라미터를 가진 모델을 말한다.\n",
    "\n",
    "- 과대적합을 완화하기 위한 방법은 네트워크의 복잡도에 제한을 두어 가중치가 작은 값을 가지도록 제약을 가하는 것이다.\n",
    "    \n",
    "    - 가중치를 작게 만든다는 의미는 특정값(outlier 등)의 영향을 적게 받도록 해줌으로써, 결과적으로 일반화에 적합한 특성을 갖게 만드는 것이라 할 수 있다. → [[링크]](https://m.blog.naver.com/laonple/220527647084) 참고\n",
    "    \n",
    "    - 이러한 제약을 통해 가중치 값의 분포가 더 균일하게 된다.\n",
    "\n",
    "\n",
    "- 이를 **가중치 규제**(weight regularization)라고 하며, 네트워크의 손실함수에 큰 가중치에 연관된 비용을 추가하는 데, 두 가지 형태의 비용이 있다.\n",
    "    \n",
    "    - **L1 규제** : 가중치의 절대값에 비례하는 비용이 추가된다(가중치의 L1 노름). → $\\lambda  \\mid w \\mid$\n",
    "    \n",
    "    - **L2 규제** : 가중치의 제곱에 비례하는 비용이 추가된다(가중치의 L2 노름). L2 규제는 신경망에서 가중치 감쇠(weight decay)라고도 부른다. → $\\frac{1}{2} \\lambda w^2$"
   ]
  },
  {
   "cell_type": "markdown",
   "metadata": {},
   "source": [
    "---"
   ]
  },
  {
   "cell_type": "markdown",
   "metadata": {},
   "source": [
    "### 실습\n",
    "\n",
    "케라스에서 가중치 규제 인스턴스를 층의 키워드 매개변수로 전달하여 가중치 규제를 추가할 수 있습니다. 영화 리뷰 분류 네트워크에 L2 가중치 규제를 추가해 보죠:"
   ]
  },
  {
   "cell_type": "code",
   "execution_count": 26,
   "metadata": {},
   "outputs": [
    {
     "name": "stdout",
     "output_type": "stream",
     "text": [
      "_________________________________________________________________\n",
      "Layer (type)                 Output Shape              Param #   \n",
      "=================================================================\n",
      "dense_1 (Dense)              (None, 16)                160016    \n",
      "_________________________________________________________________\n",
      "dense_2 (Dense)              (None, 16)                272       \n",
      "_________________________________________________________________\n",
      "dense_3 (Dense)              (None, 1)                 17        \n",
      "=================================================================\n",
      "Total params: 160,305\n",
      "Trainable params: 160,305\n",
      "Non-trainable params: 0\n",
      "_________________________________________________________________\n"
     ]
    }
   ],
   "source": [
    "from keras import regularizers\n",
    "\n",
    "K.clear_session()\n",
    "\n",
    "l2_model = models.Sequential()\n",
    "l2_model.add(layers.Dense(16, kernel_regularizer=regularizers.l2(0.001),\n",
    "                          activation='relu', input_shape=(10000,)))\n",
    "l2_model.add(layers.Dense(16, kernel_regularizer=regularizers.l2(0.001), \n",
    "                          activation='relu'))\n",
    "l2_model.add(layers.Dense(1, activation='sigmoid'))\n",
    "\n",
    "l2_model.compile(optimizer='rmsprop', \n",
    "                 loss='binary_crossentropy',\n",
    "                 metrics=['acc'])\n",
    "\n",
    "l2_model.summary()"
   ]
  },
  {
   "cell_type": "markdown",
   "metadata": {},
   "source": [
    " "
   ]
  },
  {
   "cell_type": "markdown",
   "metadata": {},
   "source": [
    "`l2(0.001)`는 가중치 행렬의 모든 원소를 제곱하고 `0.001`($\\lambda = 0.001$)을 곱하여 네트워크의 전체 손실에 더해진다는 의미입니다. 이 페널티 항은 훈련할 때만 추가됩니다. 이 네트워크의 손실은 테스트보다 훈련할 때 더 높을 것입니다.\n",
    "\n",
    "L2 규제 페널티의 효과를 확인해 보죠:"
   ]
  },
  {
   "cell_type": "code",
   "execution_count": 27,
   "metadata": {},
   "outputs": [
    {
     "name": "stdout",
     "output_type": "stream",
     "text": [
      "Train on 25000 samples, validate on 25000 samples\n",
      "Epoch 1/20\n",
      "25000/25000 [==============================] - 1s 52us/step - loss: 0.4833 - acc: 0.8261 - val_loss: 0.3740 - val_acc: 0.8826\n",
      "Epoch 2/20\n",
      "25000/25000 [==============================] - 1s 49us/step - loss: 0.3068 - acc: 0.9078 - val_loss: 0.3636 - val_acc: 0.8684\n",
      "Epoch 3/20\n",
      "25000/25000 [==============================] - 1s 50us/step - loss: 0.2658 - acc: 0.9221 - val_loss: 0.3755 - val_acc: 0.8641\n",
      "Epoch 4/20\n",
      "25000/25000 [==============================] - 1s 50us/step - loss: 0.2468 - acc: 0.9291 - val_loss: 0.3355 - val_acc: 0.8857\n",
      "Epoch 5/20\n",
      "25000/25000 [==============================] - 1s 50us/step - loss: 0.2356 - acc: 0.9333 - val_loss: 0.3988 - val_acc: 0.8624\n",
      "Epoch 6/20\n",
      "25000/25000 [==============================] - 1s 49us/step - loss: 0.2264 - acc: 0.9361 - val_loss: 0.3540 - val_acc: 0.8797\n",
      "Epoch 7/20\n",
      "25000/25000 [==============================] - 1s 49us/step - loss: 0.2213 - acc: 0.9385 - val_loss: 0.3553 - val_acc: 0.8800\n",
      "Epoch 8/20\n",
      "25000/25000 [==============================] - 1s 50us/step - loss: 0.2179 - acc: 0.9416 - val_loss: 0.3706 - val_acc: 0.8762\n",
      "Epoch 9/20\n",
      "25000/25000 [==============================] - 1s 49us/step - loss: 0.2110 - acc: 0.9437 - val_loss: 0.3712 - val_acc: 0.8762\n",
      "Epoch 10/20\n",
      "25000/25000 [==============================] - 1s 48us/step - loss: 0.2069 - acc: 0.9451 - val_loss: 0.3909 - val_acc: 0.8699\n",
      "Epoch 11/20\n",
      "25000/25000 [==============================] - 1s 48us/step - loss: 0.2083 - acc: 0.9448 - val_loss: 0.4155 - val_acc: 0.8625\n",
      "Epoch 12/20\n",
      "25000/25000 [==============================] - 1s 49us/step - loss: 0.1986 - acc: 0.9476 - val_loss: 0.3855 - val_acc: 0.8743\n",
      "Epoch 13/20\n",
      "25000/25000 [==============================] - 1s 49us/step - loss: 0.2000 - acc: 0.9468 - val_loss: 0.4058 - val_acc: 0.8672\n",
      "Epoch 14/20\n",
      "25000/25000 [==============================] - 1s 50us/step - loss: 0.2018 - acc: 0.9464 - val_loss: 0.3948 - val_acc: 0.8714\n",
      "Epoch 15/20\n",
      "25000/25000 [==============================] - 1s 49us/step - loss: 0.1941 - acc: 0.9501 - val_loss: 0.4137 - val_acc: 0.8686\n",
      "Epoch 16/20\n",
      "25000/25000 [==============================] - 1s 49us/step - loss: 0.1939 - acc: 0.9494 - val_loss: 0.4230 - val_acc: 0.8670\n",
      "Epoch 17/20\n",
      "25000/25000 [==============================] - 1s 50us/step - loss: 0.1935 - acc: 0.9496 - val_loss: 0.4054 - val_acc: 0.8690\n",
      "Epoch 18/20\n",
      "25000/25000 [==============================] - 1s 48us/step - loss: 0.1900 - acc: 0.9503 - val_loss: 0.4063 - val_acc: 0.8704\n",
      "Epoch 19/20\n",
      "25000/25000 [==============================] - 1s 49us/step - loss: 0.1840 - acc: 0.9536 - val_loss: 0.4399 - val_acc: 0.8636\n",
      "Epoch 20/20\n",
      "25000/25000 [==============================] - 1s 48us/step - loss: 0.1857 - acc: 0.9513 - val_loss: 0.4174 - val_acc: 0.8690\n"
     ]
    }
   ],
   "source": [
    "l2_model_hist = l2_model.fit(x_train, y_train,\n",
    "                             epochs=20,\n",
    "                             batch_size=512,\n",
    "                             validation_data=(x_test, y_test))"
   ]
  },
  {
   "cell_type": "code",
   "execution_count": 28,
   "metadata": {},
   "outputs": [
    {
     "data": {
      "image/png": "[encoded data removed]",
      "text/plain": [
       "<Figure size 432x288 with 1 Axes>"
      ]
     },
     "metadata": {},
     "output_type": "display_data"
    }
   ],
   "source": [
    "l2_model_val_loss = l2_model_hist.history['val_loss']\n",
    "\n",
    "plt.plot(epochs, original_val_loss, 'b+', label='Original model')\n",
    "plt.plot(epochs, l2_model_val_loss, 'bo', label='L2-regularized model')\n",
    "plt.xlabel('Epochs')\n",
    "plt.ylabel('Validation loss')\n",
    "plt.legend()\n",
    "\n",
    "plt.show()"
   ]
  },
  {
   "cell_type": "markdown",
   "metadata": {},
   "source": [
    " "
   ]
  },
  {
   "cell_type": "markdown",
   "metadata": {},
   "source": [
    "여기서 볼 수 있듯이 두 모델이 동일한 파라미터 수를 가지고 있더라도 L2 규제를 사용한 모델(점)이 기본 모델(덧셈 기호)보다 훨씬 더 과대적합에 잘 견디고 있습니다.\n",
    "\n",
    "케라스에서 L2 규제 대신에 다음과 같은 가중치 규제 중 하나를 사용할 수 있습니다:"
   ]
  },
  {
   "cell_type": "markdown",
   "metadata": {},
   "source": [
    "```python\n",
    "from keras import regularizers\n",
    "\n",
    "# L1 규제\n",
    "regularizers.l1(0.001)\n",
    "\n",
    "# L1과 L2 규제 병행\n",
    "regularizers.l1_l2(l1=0.001, l2=0.001)\n",
    "```"
   ]
  },
  {
   "cell_type": "markdown",
   "metadata": {},
   "source": [
    " "
   ]
  },
  {
   "cell_type": "markdown",
   "metadata": {},
   "source": [
    "#### `l1(0.0001)` 모델과 비교"
   ]
  },
  {
   "cell_type": "code",
   "execution_count": 30,
   "metadata": {},
   "outputs": [],
   "source": [
    "K.clear_session()\n",
    "\n",
    "l1_model = models.Sequential()\n",
    "l1_model.add(layers.Dense(16, kernel_regularizer=regularizers.l1(0.0001),\n",
    "                          activation='relu', input_shape=(10000,)))\n",
    "l1_model.add(layers.Dense(16, kernel_regularizer=regularizers.l1(0.0001),\n",
    "                          activation='relu'))\n",
    "l1_model.add(layers.Dense(1, activation='sigmoid'))\n",
    "\n",
    "l1_model.compile(optimizer='rmsprop',\n",
    "                 loss='binary_crossentropy',\n",
    "                 metrics=['acc'])"
   ]
  },
  {
   "cell_type": "code",
   "execution_count": 31,
   "metadata": {},
   "outputs": [
    {
     "name": "stdout",
     "output_type": "stream",
     "text": [
      "Train on 25000 samples, validate on 25000 samples\n",
      "Epoch 1/20\n",
      "25000/25000 [==============================] - 1s 55us/step - loss: 0.5612 - acc: 0.8199 - val_loss: 0.4381 - val_acc: 0.8751\n",
      "Epoch 2/20\n",
      "25000/25000 [==============================] - 1s 49us/step - loss: 0.3812 - acc: 0.8924 - val_loss: 0.3923 - val_acc: 0.8740\n",
      "Epoch 3/20\n",
      "25000/25000 [==============================] - 1s 51us/step - loss: 0.3413 - acc: 0.9008 - val_loss: 0.3614 - val_acc: 0.8888\n",
      "Epoch 4/20\n",
      "25000/25000 [==============================] - 1s 50us/step - loss: 0.3243 - acc: 0.9067 - val_loss: 0.3582 - val_acc: 0.8870\n",
      "Epoch 5/20\n",
      "25000/25000 [==============================] - 1s 49us/step - loss: 0.3132 - acc: 0.9133 - val_loss: 0.3705 - val_acc: 0.8817\n",
      "Epoch 6/20\n",
      "25000/25000 [==============================] - 1s 49us/step - loss: 0.3060 - acc: 0.9150 - val_loss: 0.3720 - val_acc: 0.8806\n",
      "Epoch 7/20\n",
      "25000/25000 [==============================] - 1s 50us/step - loss: 0.3023 - acc: 0.9151 - val_loss: 0.3856 - val_acc: 0.8776\n",
      "Epoch 8/20\n",
      "25000/25000 [==============================] - 1s 49us/step - loss: 0.2975 - acc: 0.9183 - val_loss: 0.3673 - val_acc: 0.8840\n",
      "Epoch 9/20\n",
      "25000/25000 [==============================] - 1s 50us/step - loss: 0.2938 - acc: 0.9192 - val_loss: 0.3703 - val_acc: 0.8835\n",
      "Epoch 10/20\n",
      "25000/25000 [==============================] - 1s 50us/step - loss: 0.2903 - acc: 0.9224 - val_loss: 0.3846 - val_acc: 0.8782\n",
      "Epoch 11/20\n",
      "25000/25000 [==============================] - 1s 48us/step - loss: 0.2869 - acc: 0.9224 - val_loss: 0.3762 - val_acc: 0.8820\n",
      "Epoch 12/20\n",
      "25000/25000 [==============================] - 1s 49us/step - loss: 0.2805 - acc: 0.9257 - val_loss: 0.3827 - val_acc: 0.8793\n",
      "Epoch 13/20\n",
      "25000/25000 [==============================] - 1s 49us/step - loss: 0.2806 - acc: 0.9252 - val_loss: 0.3778 - val_acc: 0.8819\n",
      "Epoch 14/20\n",
      "25000/25000 [==============================] - 1s 50us/step - loss: 0.2740 - acc: 0.9282 - val_loss: 0.3797 - val_acc: 0.8818\n",
      "Epoch 15/20\n",
      "25000/25000 [==============================] - 1s 49us/step - loss: 0.2718 - acc: 0.9284 - val_loss: 0.3894 - val_acc: 0.8782\n",
      "Epoch 16/20\n",
      "25000/25000 [==============================] - 1s 50us/step - loss: 0.2650 - acc: 0.9308 - val_loss: 0.3858 - val_acc: 0.8797\n",
      "Epoch 17/20\n",
      "25000/25000 [==============================] - 1s 49us/step - loss: 0.2596 - acc: 0.9338 - val_loss: 0.3873 - val_acc: 0.8792\n",
      "Epoch 18/20\n",
      "25000/25000 [==============================] - 1s 47us/step - loss: 0.2610 - acc: 0.9322 - val_loss: 0.3958 - val_acc: 0.8765\n",
      "Epoch 19/20\n",
      "25000/25000 [==============================] - 1s 50us/step - loss: 0.2544 - acc: 0.9375 - val_loss: 0.4160 - val_acc: 0.8711\n",
      "Epoch 20/20\n",
      "25000/25000 [==============================] - 1s 49us/step - loss: 0.2498 - acc: 0.9366 - val_loss: 0.3954 - val_acc: 0.8773\n"
     ]
    }
   ],
   "source": [
    "l1_model_hist = l1_model.fit(x_train, y_train,\n",
    "                             epochs=20,\n",
    "                             batch_size=512,\n",
    "                             validation_data=(x_test, y_test))"
   ]
  },
  {
   "cell_type": "code",
   "execution_count": 32,
   "metadata": {},
   "outputs": [
    {
     "data": {
      "image/png": "[encoded data removed]",
      "text/plain": [
       "<Figure size 432x288 with 1 Axes>"
      ]
     },
     "metadata": {},
     "output_type": "display_data"
    }
   ],
   "source": [
    "l1_model_val_loss = l1_model_hist.history['val_loss']\n",
    "\n",
    "plt.plot(epochs, original_val_loss, 'b+', label='Original model')\n",
    "plt.plot(epochs, l1_model_val_loss, 'bo', label='L1-regularized model')\n",
    "plt.xlabel('Epochs')\n",
    "plt.ylabel('Validation loss')\n",
    "plt.legend()\n",
    "\n",
    "plt.show()"
   ]
  },
  {
   "cell_type": "markdown",
   "metadata": {},
   "source": [
    " "
   ]
  },
  {
   "cell_type": "markdown",
   "metadata": {},
   "source": [
    "#### `l1_l2(l1=0.0001, l2=0.0001)`모델과 비교"
   ]
  },
  {
   "cell_type": "code",
   "execution_count": 34,
   "metadata": {},
   "outputs": [],
   "source": [
    "K.clear_session()\n",
    "\n",
    "l1l2_model = models.Sequential()\n",
    "l1l2_model.add(layers.Dense(16, kernel_regularizer=regularizers.l1_l2(l1=0.0001, l2=0.0001),\n",
    "                            activation='relu', input_shape=(10000,)))\n",
    "l1l2_model.add(layers.Dense(16, kernel_regularizer=regularizers.l1_l2(l1=0.0001, l2=0.0001),\n",
    "                            activation='relu'))\n",
    "l1l2_model.add(layers.Dense(1, activation='sigmoid'))\n",
    "\n",
    "l1l2_model.compile(optimizer='rmsprop',\n",
    "                   loss='binary_crossentropy',\n",
    "                   metrics=['acc'])"
   ]
  },
  {
   "cell_type": "code",
   "execution_count": 35,
   "metadata": {},
   "outputs": [
    {
     "name": "stdout",
     "output_type": "stream",
     "text": [
      "Train on 25000 samples, validate on 25000 samples\n",
      "Epoch 1/20\n",
      "25000/25000 [==============================] - 1s 54us/step - loss: 0.5561 - acc: 0.8107 - val_loss: 0.4203 - val_acc: 0.8811\n",
      "Epoch 2/20\n",
      "25000/25000 [==============================] - 1s 49us/step - loss: 0.3675 - acc: 0.8980 - val_loss: 0.4181 - val_acc: 0.8600\n",
      "Epoch 3/20\n",
      "25000/25000 [==============================] - 1s 50us/step - loss: 0.3336 - acc: 0.9046 - val_loss: 0.3930 - val_acc: 0.8730\n",
      "Epoch 4/20\n",
      "25000/25000 [==============================] - 1s 49us/step - loss: 0.3155 - acc: 0.9100 - val_loss: 0.3670 - val_acc: 0.8859\n",
      "Epoch 5/20\n",
      "25000/25000 [==============================] - 1s 49us/step - loss: 0.3045 - acc: 0.9156 - val_loss: 0.3609 - val_acc: 0.8871\n",
      "Epoch 6/20\n",
      "25000/25000 [==============================] - 1s 50us/step - loss: 0.2979 - acc: 0.9191 - val_loss: 0.3675 - val_acc: 0.8838\n",
      "Epoch 7/20\n",
      "25000/25000 [==============================] - 1s 49us/step - loss: 0.2867 - acc: 0.9236 - val_loss: 0.3674 - val_acc: 0.8856\n",
      "Epoch 8/20\n",
      "25000/25000 [==============================] - 1s 48us/step - loss: 0.2850 - acc: 0.9240 - val_loss: 0.3948 - val_acc: 0.8735\n",
      "Epoch 9/20\n",
      "25000/25000 [==============================] - 1s 50us/step - loss: 0.2816 - acc: 0.9251 - val_loss: 0.3844 - val_acc: 0.8794\n",
      "Epoch 10/20\n",
      "25000/25000 [==============================] - 1s 50us/step - loss: 0.2726 - acc: 0.9286 - val_loss: 0.3777 - val_acc: 0.8820\n",
      "Epoch 11/20\n",
      "25000/25000 [==============================] - 1s 50us/step - loss: 0.2706 - acc: 0.9295 - val_loss: 0.3872 - val_acc: 0.8792\n",
      "Epoch 12/20\n",
      "25000/25000 [==============================] - 1s 50us/step - loss: 0.2653 - acc: 0.9323 - val_loss: 0.3971 - val_acc: 0.8758\n",
      "Epoch 13/20\n",
      "25000/25000 [==============================] - 1s 49us/step - loss: 0.2591 - acc: 0.9349 - val_loss: 0.4047 - val_acc: 0.8733\n",
      "Epoch 14/20\n",
      "25000/25000 [==============================] - 1s 50us/step - loss: 0.2561 - acc: 0.9350 - val_loss: 0.3916 - val_acc: 0.8784\n",
      "Epoch 15/20\n",
      "25000/25000 [==============================] - 1s 51us/step - loss: 0.2531 - acc: 0.9366 - val_loss: 0.3989 - val_acc: 0.8763\n",
      "Epoch 16/20\n",
      "25000/25000 [==============================] - 1s 50us/step - loss: 0.2474 - acc: 0.9390 - val_loss: 0.4338 - val_acc: 0.8671\n",
      "Epoch 17/20\n",
      "25000/25000 [==============================] - 1s 50us/step - loss: 0.2390 - acc: 0.9424 - val_loss: 0.3993 - val_acc: 0.8751\n",
      "Epoch 18/20\n",
      "25000/25000 [==============================] - 1s 49us/step - loss: 0.2392 - acc: 0.9429 - val_loss: 0.4128 - val_acc: 0.8731\n",
      "Epoch 19/20\n",
      "25000/25000 [==============================] - 1s 49us/step - loss: 0.2289 - acc: 0.9467 - val_loss: 0.4470 - val_acc: 0.8635\n",
      "Epoch 20/20\n",
      "25000/25000 [==============================] - 1s 47us/step - loss: 0.2288 - acc: 0.9454 - val_loss: 0.4316 - val_acc: 0.8684\n"
     ]
    }
   ],
   "source": [
    "l1l2_model_hist = l1l2_model.fit(x_train, y_train,\n",
    "                                 epochs=20,\n",
    "                                 batch_size=512,\n",
    "                                 validation_data=(x_test, y_test))"
   ]
  },
  {
   "cell_type": "code",
   "execution_count": 36,
   "metadata": {},
   "outputs": [
    {
     "data": {
      "image/png": "[encoded data removed]",
      "text/plain": [
       "<Figure size 432x288 with 1 Axes>"
      ]
     },
     "metadata": {},
     "output_type": "display_data"
    }
   ],
   "source": [
    "l1l2_model_val_loss = l1l2_model_hist.history['val_loss']\n",
    "\n",
    "plt.plot(epochs, original_val_loss, 'b+', label='Original model')\n",
    "plt.plot(epochs, l1l2_model_val_loss, 'bo', label='L1,L2-regularized model')\n",
    "plt.xlabel('Epochs')\n",
    "plt.ylabel('Validation loss')\n",
    "plt.legend()\n",
    "\n",
    "plt.show()"
   ]
  },
  {
   "cell_type": "markdown",
   "metadata": {},
   "source": [
    " "
   ]
  },
  {
   "cell_type": "markdown",
   "metadata": {},
   "source": [
    "### 4.4.3 드롭아웃 (Dropout)\n",
    "\n",
    "- **드롭아웃(dropout)** 은 신경망에서 사용되는 규제 기법 중에서 가장 효과적이고 널리 사용되는 방법 중 하나다.\n",
    "\n",
    "- 드롭아웃의 핵심 아이디어는 층의 출력값에 노이즈(랜덤하게 끄는것)를 추가하여 중요하지 않은 우연한 패턴을 네트워크가 학습하지 못하게 하는 것이다.\n",
    "\n",
    "- 네트워크 층에 드롭아웃을 적용하면 **훈련하는 동안** 랜덤하게 층의 일부 출력 특성(유닛)을 제외시킨다(0으로 만든다).\n",
    "\n",
    "<img src=\"./images/dropout.png\" height=\"60%\" width=\"60%\" />\n",
    "\n",
    "- 드롭아웃 비율(`p`)은 일반적으로 `0.2 ~ 0.5`로 설정한다.\n",
    "\n",
    "- 테스트 단계에서는 어떠한 유닛도 드롭아웃 되지 않는다.\n",
    "\n",
    "    - 그 대신 층의 출력을 드롭아웃 비율(`p`)에 비례하여 줄여준다. → `layer_output *= p`\n",
    "\n",
    "    - 그 이유는 훈련할 때보다 더 많은 유닛이 활성화되기 때문이다. → keras에서는 자동으로 계산해줌\n",
    "\n",
    "\n",
    "- 케라스에서는 층의 출력 바로 뒤에 `Dropout`층을 추가하여 네트워크에 드롭아웃을 적용할 수 있다.\n",
    "\n",
    "```python\n",
    "from keras import layers\n",
    "\n",
    "model.add(layers.Dropout(0.5))\n",
    "```"
   ]
  },
  {
   "cell_type": "markdown",
   "metadata": {},
   "source": [
    "---"
   ]
  },
  {
   "cell_type": "markdown",
   "metadata": {},
   "source": [
    "### 실습\n",
    "\n",
    "IMDB 네트워크에 두 개의 `Dropout` 층을 추가하고 과대적합을 얼마나 줄여주는지 확인해 보겠습니다:"
   ]
  },
  {
   "cell_type": "code",
   "execution_count": 40,
   "metadata": {},
   "outputs": [
    {
     "name": "stdout",
     "output_type": "stream",
     "text": [
      "_________________________________________________________________\n",
      "Layer (type)                 Output Shape              Param #   \n",
      "=================================================================\n",
      "dense_1 (Dense)              (None, 16)                160016    \n",
      "_________________________________________________________________\n",
      "dropout_1 (Dropout)          (None, 16)                0         \n",
      "_________________________________________________________________\n",
      "dense_2 (Dense)              (None, 16)                272       \n",
      "_________________________________________________________________\n",
      "dropout_2 (Dropout)          (None, 16)                0         \n",
      "_________________________________________________________________\n",
      "dense_3 (Dense)              (None, 1)                 17        \n",
      "=================================================================\n",
      "Total params: 160,305\n",
      "Trainable params: 160,305\n",
      "Non-trainable params: 0\n",
      "_________________________________________________________________\n"
     ]
    }
   ],
   "source": [
    "K.clear_session()\n",
    "\n",
    "dpt_model = models.Sequential()\n",
    "dpt_model.add(layers.Dense(16, activation='relu', input_shape=(10000,)))\n",
    "dpt_model.add(layers.Dropout(0.5))\n",
    "dpt_model.add(layers.Dense(16, activation='relu'))\n",
    "dpt_model.add(layers.Dropout(0.5))\n",
    "dpt_model.add(layers.Dense(1, activation='sigmoid'))\n",
    "\n",
    "dpt_model.compile(optimizer='rmsprop',\n",
    "                  loss='binary_crossentropy',\n",
    "                  metrics=['acc'])\n",
    "\n",
    "dpt_model.summary()"
   ]
  },
  {
   "cell_type": "code",
   "execution_count": 41,
   "metadata": {},
   "outputs": [
    {
     "name": "stdout",
     "output_type": "stream",
     "text": [
      "Train on 25000 samples, validate on 25000 samples\n",
      "Epoch 1/20\n",
      "25000/25000 [==============================] - 1s 53us/step - loss: 0.6149 - acc: 0.6647 - val_loss: 0.4858 - val_acc: 0.8618\n",
      "Epoch 2/20\n",
      "25000/25000 [==============================] - 1s 49us/step - loss: 0.4733 - acc: 0.7988 - val_loss: 0.3626 - val_acc: 0.8819\n",
      "Epoch 3/20\n",
      "25000/25000 [==============================] - 1s 49us/step - loss: 0.3790 - acc: 0.8533 - val_loss: 0.3065 - val_acc: 0.8885\n",
      "Epoch 4/20\n",
      "25000/25000 [==============================] - 1s 50us/step - loss: 0.3171 - acc: 0.8872 - val_loss: 0.2842 - val_acc: 0.8903\n",
      "Epoch 5/20\n",
      "25000/25000 [==============================] - 1s 49us/step - loss: 0.2733 - acc: 0.9046 - val_loss: 0.2906 - val_acc: 0.8876\n",
      "Epoch 6/20\n",
      "25000/25000 [==============================] - 1s 47us/step - loss: 0.2462 - acc: 0.9185 - val_loss: 0.2895 - val_acc: 0.8878\n",
      "Epoch 7/20\n",
      "25000/25000 [==============================] - 1s 49us/step - loss: 0.2191 - acc: 0.9269 - val_loss: 0.3015 - val_acc: 0.8873\n",
      "Epoch 8/20\n",
      "25000/25000 [==============================] - 1s 50us/step - loss: 0.1965 - acc: 0.9338 - val_loss: 0.3126 - val_acc: 0.8871\n",
      "Epoch 9/20\n",
      "25000/25000 [==============================] - 1s 49us/step - loss: 0.1833 - acc: 0.9397 - val_loss: 0.3444 - val_acc: 0.8844\n",
      "Epoch 10/20\n",
      "25000/25000 [==============================] - 1s 48us/step - loss: 0.1686 - acc: 0.9446 - val_loss: 0.3713 - val_acc: 0.8821\n",
      "Epoch 11/20\n",
      "25000/25000 [==============================] - 1s 47us/step - loss: 0.1569 - acc: 0.9498 - val_loss: 0.3883 - val_acc: 0.8814\n",
      "Epoch 12/20\n",
      "25000/25000 [==============================] - 1s 49us/step - loss: 0.1450 - acc: 0.9521 - val_loss: 0.3929 - val_acc: 0.8797\n",
      "Epoch 13/20\n",
      "25000/25000 [==============================] - 1s 48us/step - loss: 0.1414 - acc: 0.9550 - val_loss: 0.4212 - val_acc: 0.8791\n",
      "Epoch 14/20\n",
      "25000/25000 [==============================] - 1s 50us/step - loss: 0.1324 - acc: 0.9564 - val_loss: 0.4484 - val_acc: 0.8794\n",
      "Epoch 15/20\n",
      "25000/25000 [==============================] - 1s 49us/step - loss: 0.1269 - acc: 0.9594 - val_loss: 0.4451 - val_acc: 0.8736\n",
      "Epoch 16/20\n",
      "25000/25000 [==============================] - 1s 50us/step - loss: 0.1254 - acc: 0.9586 - val_loss: 0.4865 - val_acc: 0.8774\n",
      "Epoch 17/20\n",
      "25000/25000 [==============================] - 1s 48us/step - loss: 0.1189 - acc: 0.9614 - val_loss: 0.4916 - val_acc: 0.8751\n",
      "Epoch 18/20\n",
      "25000/25000 [==============================] - 1s 47us/step - loss: 0.1165 - acc: 0.9633 - val_loss: 0.5148 - val_acc: 0.8766\n",
      "Epoch 19/20\n",
      "25000/25000 [==============================] - 1s 48us/step - loss: 0.1187 - acc: 0.9634 - val_loss: 0.5393 - val_acc: 0.8741\n",
      "Epoch 20/20\n",
      "25000/25000 [==============================] - 1s 48us/step - loss: 0.1099 - acc: 0.9667 - val_loss: 0.5602 - val_acc: 0.8737\n"
     ]
    }
   ],
   "source": [
    "dpt_model_hist = dpt_model.fit(x_train, y_train,\n",
    "                               epochs=20,\n",
    "                               batch_size=512,\n",
    "                               validation_data=(x_test, y_test))"
   ]
  },
  {
   "cell_type": "code",
   "execution_count": 42,
   "metadata": {},
   "outputs": [
    {
     "data": {
      "image/png": "[encoded data removed]",
      "text/plain": [
       "<Figure size 432x288 with 1 Axes>"
      ]
     },
     "metadata": {},
     "output_type": "display_data"
    }
   ],
   "source": [
    "dpt_model_val_loss = dpt_model_hist.history['val_loss']\n",
    "\n",
    "plt.plot(epochs, original_val_loss, 'b+', label='Original model')\n",
    "plt.plot(epochs, dpt_model_val_loss, 'bo', label='Dropout-regularized model')\n",
    "plt.xlabel('Epochs')\n",
    "plt.ylabel('Validation loss')\n",
    "plt.legend()\n",
    "\n",
    "plt.show()"
   ]
  },
  {
   "cell_type": "markdown",
   "metadata": {},
   "source": [
    " "
   ]
  },
  {
   "cell_type": "markdown",
   "metadata": {},
   "source": [
    "### 4.4.4 정리\n",
    "\n",
    "\n",
    "신경망에서 과대적합을 방지하기 위해 가장 널리 사용하는 방법은 다음과 같다.\n",
    "\n",
    "- 훈련 데이터를 더 모은다.\n",
    "\n",
    "- 네트워크 용량을 감소 시킨다(파라미터 수를 줄인다).\n",
    "\n",
    "- 가중치 규제($l1, l2$)를 추가한다.\n",
    "\n",
    "- 드롭아웃을 추가한다."
   ]
  },
  {
   "cell_type": "markdown",
   "metadata": {},
   "source": [
    " "
   ]
  },
  {
   "cell_type": "markdown",
   "metadata": {},
   "source": [
    "## 4.5 보편적인 머신러닝 작업 흐름\n",
    "\n",
    "\n",
    "\n",
    "1. 문제 정의와 데이터 수집\n",
    "2. 성공 지표 선택\n",
    "   - 성공의 지표가 모델이 최적화할 손실 함수를 선택하는 기준이 된다.\n",
    "   - 클래스가 분포가 균일한 분류 문제에서는 정확도와 [ROC AUC](https://github.com/ExcelsiorCJH/Hands-On-ML/blob/master/Chap03-Classification/Chap03-Classification.ipynb)가 일반적인 지표다.\n",
    "   - 랭킹 문제나 다중 레이블 문제에는 **평균 정밀도**(Mean Average Precision)를 사용할 수 있다.\n",
    "3. 평가 방법 선택\n",
    "   - Hold-out 검증 세트 분리 : 데이터가 많을 때 사용\n",
    "   - K-fold cross-valication : 홀드아웃 검증을 사용하기에 샘플의 수가 적을 때 사용\n",
    "   - Iterated K-fold validation : 데이터가 적고 매우 정확한 모델 평가가 필요할 때 사용\n",
    "4. 데이터 준비\n",
    "   - 입력 데이터와 타겟 데이터 텐서를 준비한다.\n",
    "5. 기본(baseline)보다 나은 모델 개발하기\n",
    "   - 아주 단순한 모델보다 나은 수준의 모델을 개발한다.\n",
    "   - 마지막 층의 활성화 함수, 손실함수, 최적화 설정 등\n",
    "6. 과대적합 모델 만들기\n",
    "   - 적절한 모델을 설정하기 위해 과대적합 모델을 만든 뒤 과대적합 모델 보다 작은 모델을 만들기 위해 비교한다.\n",
    "7. 모델 규제와 하이퍼파라미터 튜닝\n",
    "   - 드롭아웃 추가\n",
    "   - 층을 추가하거나 제거해서 다른 구조를 시도\n",
    "   - L1이나 L2 규제를 추가\n",
    "   - 하이퍼파라미터(learning rate, 층의 유닛 수 등) 조정\n",
    "   - 특성 공학 시도"
   ]
  },
  {
   "cell_type": "code",
   "execution_count": null,
   "metadata": {},
   "outputs": [],
   "source": []
  }
 ],
 "metadata": {
  "kernelspec": {
   "display_name": "tensorflow",
   "language": "python",
   "name": "tensorflow"
  },
  "language_info": {
   "codemirror_mode": {
    "name": "ipython",
    "version": 3
   },
   "file_extension": ".py",
   "mimetype": "text/x-python",
   "name": "python",
   "nbconvert_exporter": "python",
   "pygments_lexer": "ipython3",
   "version": "3.6.5"
  }
 },
 "nbformat": 4,
 "nbformat_minor": 2
}
