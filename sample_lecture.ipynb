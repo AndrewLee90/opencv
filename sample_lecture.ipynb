{
  "nbformat": 4,
  "nbformat_minor": 0,
  "metadata": {
    "colab": {
      "provenance": [],
      "toc_visible": true,
      "authorship_tag": "ABX9TyMKaouKiW2Eh4cKx0azC/7f",
      "include_colab_link": true
    },
    "kernelspec": {
      "name": "python3",
      "display_name": "Python 3"
    },
    "language_info": {
      "name": "python"
    }
  },
  "cells": [
    {
      "cell_type": "markdown",
      "metadata": {
        "id": "view-in-github",
        "colab_type": "text"
      },
      "source": [
        "<a href=\"https://colab.research.google.com/github/dscoool/opencv/blob/main/sample_lecture.ipynb\" target=\"_parent\"><img src=\"https://colab.research.google.com/assets/colab-badge.svg\" alt=\"Open In Colab\"/></a>"
      ]
    },
    {
      "cell_type": "code",
      "source": [
        "import cv2"
      ],
      "metadata": {
        "id": "4NCUpWi2CeaL"
      },
      "execution_count": null,
      "outputs": []
    },
    {
      "cell_type": "code",
      "source": [
        "FilePath = './video.mp4'"
      ],
      "metadata": {
        "id": "XFvMKUecChYg"
      },
      "execution_count": null,
      "outputs": []
    },
    {
      "cell_type": "code",
      "execution_count": null,
      "metadata": {
        "id": "iViSp0RwCXz7"
      },
      "outputs": [],
      "source": [
        "# -*- coding: utf-8 -*-\n",
        "import cv2\n",
        "\n",
        "\n",
        "#파일 경로\n",
        "FilePath = './video.mp4'\n",
        "\n",
        "#Open the File\n",
        "movie = cv2.VideoCapture(FilePath) #동영상 핸들 얻기\n",
        "\n",
        "#Check that the file is opened\n",
        "if movie.isOpened() == False: #동영상 핸들 확인\n",
        "    print('Can\\'t open the File' + (FilePath))\n",
        "    exit()\n",
        "\n",
        "#create the window & change the window size\n",
        "#윈도우 생성 및 사이즈 변경\n",
        "cv2.namedWindow('Face')\n",
        "\n",
        "face_cascade = cv2.CascadeClassifier()\n",
        "face_cascade.load('./haarcascade_frontalface_default.xml')\n",
        "\n",
        "\n",
        "while(True):\n",
        "    #read from movie file\n",
        "    #동영상에서 이미지 얻기\n",
        "    ret, frame = movie.read()\n",
        "\n",
        "    grayframe = cv2.cvtColor(frame, cv2.COLOR_BGR2GRAY)\n",
        "    #grayframe = cv2.equalizeHist(grayframe)\n",
        "\n",
        "    faces = face_cascade.detectMultiScale(grayframe, 1.1, 3, 0, (10, 10))\n",
        "    \"\"\"\n",
        "    cv2.CascadeClassifier.detectMultiScale(image[, scaleFactor[, minNeighbors[,\n",
        "                                           flags[, minSize[, maxSize]]]]]) → objects\n",
        "    image 실제 이미지\n",
        "    objects [반환값] 얼굴 검출 위치와 영역 변수\n",
        "    scaleFactor 이미지 스케일\n",
        "    minNeighbors 얼굴 검출 후보들의 갯수\n",
        "    flags 이전 cascade와 동일하다 cvHaarDetectObjects 함수 에서\n",
        "          새로운 cascade에서는 사용하지 않는다.\n",
        "    minSize 가능한 최소 객체 사이즈\n",
        "    maxSize 가능한 최대 객체 사이즈\n",
        "    \"\"\"\n",
        "    for (x,y,w,h) in faces:\n",
        "        cv2.rectangle(frame,(x,y),(x+w,y+h),(0,255,0),3, 4, 0)\n",
        "    \"\"\"\n",
        "    cv2.rectangle(img, pt1, pt2, color[, thickness[, lineType[, shift]]]) → None\n",
        "    img 적용할 이미지\n",
        "    pt1 그릴 상자의 꼭지점\n",
        "    pt2 pt1의 반대편 꼭지점\n",
        "    color 상자의 색상\n",
        "    thickness 상자의 라인들의 두께 음수 또는 CV_FILLED를 주면 상자를 채운다.\n",
        "    lineType 라인의 모양 line()함수 확인하기\n",
        "    shift ?? Number of fractional bits in the point coordinates.\n",
        "    포인트 좌표의 분수 비트의 수??\n",
        "    \"\"\"\n",
        "\n",
        "    cv2.imshow('Face',frame)\n",
        "\n",
        "    #wait keyboard input until 1ms\n",
        "    if cv2.waitKey(255) < 0:\n",
        "    # if cv2.waitKey(1) != 255:\n",
        "        break\n",
        "\n",
        "#close the window\n",
        "#윈도우 종료\n",
        "\n",
        "# 10초 동안 키입력 기다립니다.\n",
        "k = cv2.waitKey(10000)\n",
        "movie.release()\n",
        "# s키를 누르면 f1.jpg로 이미지 저장 후 종료\n",
        "# 다른키 입력시 종료\n",
        "# 키입력 없을시 10초간 대기\n",
        "if k == ord('s'):\n",
        "    cv2.imwrite('f1.jpg', frame)\n",
        "\n",
        "cv2.destroyWindow('Face')"
      ]
    }
  ]
}