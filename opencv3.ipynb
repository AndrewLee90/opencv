{
 "cells": [
  {
   "cell_type": "code",
   "execution_count": null,
   "metadata": {},
   "outputs": [],
   "source": [
    "!pip install opencv-python\n"
   ]
  },
  {
   "cell_type": "code",
   "execution_count": null,
   "metadata": {},
   "outputs": [],
   "source": [
    "import cv2\n",
    "\n",
    "# Load the pre-trained face detection Haar Cascade classifier\n",
    "face_cascade = cv2.CascadeClassifier(cv2.data.haarcascades + \"haarcascade_frontalface_default.xml\")\n",
    "\n",
    "# Open the webcam\n",
    "cap = cv2.VideoCapture(0)"
   ]
  },
  {
   "cell_type": "code",
   "execution_count": null,
   "metadata": {},
   "outputs": [],
   "source": [
    "while True:\n",
    "    ret, frame = cap.read()\n",
    "\n",
    "    if not ret:\n",
    "        break\n",
    "\n",
    "    # Convert frame to grayscale for face detection\n",
    "    gray_frame = cv2.cvtColor(frame, cv2.COLOR_BGR2GRAY)\n",
    "\n",
    "    # Detect faces in the frame\n",
    "    faces = face_cascade.detectMultiScale(gray_frame, scaleFactor=1.1, minNeighbors=5, minSize=(30, 30))\n",
    "\n",
    "    for (x, y, w, h) in faces:\n",
    "        # Extract the region of interest (ROI) for the face\n",
    "        face_roi = frame[y:y+h, x:x+w]\n",
    "\n",
    "        # Apply Gaussian blur to the face ROI\n",
    "        blurred_face = cv2.GaussianBlur(face_roi, (99, 99), 20)\n",
    "\n",
    "        # Place the blurred face back into the original frame\n",
    "        frame[y:y+h, x:x+w] = blurred_face\n",
    "\n",
    "    # Display the result\n",
    "    cv2.imshow('Blurred Faces', frame)\n",
    "\n",
    "    # Exit the loop when the ENTER key is pressed\n",
    "    if cv2.waitKey(1) == 13:\n",
    "        break\n",
    "\n",
    "# Release the video capture and close the window\n",
    "cv2.destroyAllWindows()\n",
    "cap.release()"
   ]
  }
 ],
 "metadata": {
  "language_info": {
   "name": "python"
  }
 },
 "nbformat": 4,
 "nbformat_minor": 2
}
