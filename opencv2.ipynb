{
  "nbformat": 4,
  "nbformat_minor": 0,
  "metadata": {
    "colab": {
      "provenance": [],
      "gpuType": "T4",
      "authorship_tag": "ABX9TyMh858i/t9xFO7HOXOJJDnE",
      "include_colab_link": true
    },
    "kernelspec": {
      "name": "python3",
      "display_name": "Python 3"
    },
    "language_info": {
      "name": "python"
    },
    "accelerator": "GPU"
  },
  "cells": [
    {
      "cell_type": "markdown",
      "metadata": {
        "id": "view-in-github",
        "colab_type": "text"
      },
      "source": [
        "<a href=\"https://colab.research.google.com/github/dscoool/opencv/blob/main/opencv2.ipynb\" target=\"_parent\"><img src=\"https://colab.research.google.com/assets/colab-badge.svg\" alt=\"Open In Colab\"/></a>"
      ]
    },
    {
      "cell_type": "code",
      "source": [
        "from imutils.video import VideoStream\n",
        "from imutils.video import FPS\n",
        "import numpy as np\n",
        "import imutils\n",
        "import time\n",
        "import cv2\n",
        "import os"
      ],
      "metadata": {
        "id": "ZypVyl-8l8AW"
      },
      "execution_count": 1,
      "outputs": []
    },
    {
      "cell_type": "code",
      "source": [
        "protoPath = \"deploy.prototxt\"\n",
        "modelPath = \"res10_300x300_ssd_iter_140000.caffemodel\"\n",
        "detector = cv2.dnn.readNetFromCaffe(protoPath, modelPath)"
      ],
      "metadata": {
        "colab": {
          "base_uri": "https://localhost:8080/",
          "height": 245
        },
        "id": "Ka6qNtLzl_Yq",
        "outputId": "6b2d3d44-e3d0-46f2-b1e6-7d91c8abe23d"
      },
      "execution_count": 2,
      "outputs": [
        {
          "output_type": "error",
          "ename": "error",
          "evalue": "OpenCV(4.10.0) /io/opencv/modules/dnn/src/caffe/caffe_io.cpp:1126: error: (-2:Unspecified error) FAILED: fs.is_open(). Can't open \"deploy.prototxt\" in function 'ReadProtoFromTextFile'\n",
          "traceback": [
            "\u001b[0;31m---------------------------------------------------------------------------\u001b[0m",
            "\u001b[0;31merror\u001b[0m                                     Traceback (most recent call last)",
            "\u001b[0;32m<ipython-input-2-328557b49e38>\u001b[0m in \u001b[0;36m<cell line: 3>\u001b[0;34m()\u001b[0m\n\u001b[1;32m      1\u001b[0m \u001b[0mprotoPath\u001b[0m \u001b[0;34m=\u001b[0m \u001b[0;34m\"deploy.prototxt\"\u001b[0m\u001b[0;34m\u001b[0m\u001b[0;34m\u001b[0m\u001b[0m\n\u001b[1;32m      2\u001b[0m \u001b[0mmodelPath\u001b[0m \u001b[0;34m=\u001b[0m \u001b[0;34m\"res10_300x300_ssd_iter_140000.caffemodel\"\u001b[0m\u001b[0;34m\u001b[0m\u001b[0;34m\u001b[0m\u001b[0m\n\u001b[0;32m----> 3\u001b[0;31m \u001b[0mdetector\u001b[0m \u001b[0;34m=\u001b[0m \u001b[0mcv2\u001b[0m\u001b[0;34m.\u001b[0m\u001b[0mdnn\u001b[0m\u001b[0;34m.\u001b[0m\u001b[0mreadNetFromCaffe\u001b[0m\u001b[0;34m(\u001b[0m\u001b[0mprotoPath\u001b[0m\u001b[0;34m,\u001b[0m \u001b[0mmodelPath\u001b[0m\u001b[0;34m)\u001b[0m\u001b[0;34m\u001b[0m\u001b[0;34m\u001b[0m\u001b[0m\n\u001b[0m",
            "\u001b[0;31merror\u001b[0m: OpenCV(4.10.0) /io/opencv/modules/dnn/src/caffe/caffe_io.cpp:1126: error: (-2:Unspecified error) FAILED: fs.is_open(). Can't open \"deploy.prototxt\" in function 'ReadProtoFromTextFile'\n"
          ]
        }
      ]
    },
    {
      "cell_type": "markdown",
      "source": [
        "### face detection\n"
      ],
      "metadata": {
        "id": "giKN3AcJmFIh"
      }
    },
    {
      "cell_type": "code",
      "source": [
        "vs = VideoStream(src=0).start()\n",
        "time.sleep(2.0)\n",
        "\n",
        "fps = FPS().start()\n",
        "\n",
        "while True:\n",
        "    frame = vs.read()\n",
        "    frame = imutils.resize(frame,width=600)\n",
        "    (h, w) = frame.shape[:2]\n",
        "\n",
        "    imageBlob = cv2.dnn.blobFromImage(cv2.resize(frame,(300,300)),1.0, (300,300),(104.0,177.0,123.0), swapRB=False, crop=False)\n",
        "\n",
        "    detector.setInput(imageBlob)\n",
        "    detections = detector.forward()\n",
        "\n",
        "    for i in range(0,detections.shape[2]):\n",
        "        confidence = detections[0,0,i,2]\n",
        "\n",
        "        if confidence > 0.5:\n",
        "            box = detections[0,0,i,3:7] * np.array([w,h,w,h])\n",
        "            (startX, startY, endX, endY) = box.astype(\"int\")\n",
        "\n",
        "            face = frame[startY:endY, startX:endX]\n",
        "            (fH, fW) = face.shape[:2]\n",
        "\n",
        "            if fW < 20 or fH < 20:\n",
        "                continue\n",
        "\n",
        "            faceBlob = cv2.dnn.blobFromImage(face, 1.0 / 255,(96, 96), (0, 0, 0), swapRB=True, crop=False)\n",
        "\n",
        "            y = startY - 10 if startY - 10 > 10 else startY + 10\n",
        "            cv2.rectangle(frame, (startX, startY), (endX, endY),\n",
        "                (0, 0, 255), 2)\n",
        "\n",
        "    fps.update()\n",
        "    cv2.imshow(\"Frame\", frame)\n",
        "    key = cv2.waitKey(1) & 0xFF\n",
        "    if key == ord(\"q\"):\n",
        "        break\n",
        "fps.stop()\n",
        "cv2.destroyAllWindows()\n",
        "vs.stop()"
      ],
      "metadata": {
        "id": "jiVLrCd3mBi4"
      },
      "execution_count": null,
      "outputs": []
    },
    {
      "cell_type": "code",
      "source": [
        "face_image = cv2.GaussianBlur(face,(99,99), 30)\n",
        "            frame[startY:endY, startX:endX] = face_image"
      ],
      "metadata": {
        "id": "4VJjsPM5mXlQ"
      },
      "execution_count": null,
      "outputs": []
    },
    {
      "cell_type": "markdown",
      "source": [],
      "metadata": {
        "id": "mRxHBZ9cmuij"
      }
    },
    {
      "cell_type": "code",
      "source": [
        "import cv2\n",
        "import numpy as np\n",
        "import time\n",
        "import argparse\n",
        "import urllib\n",
        "\n",
        "\n",
        "\n",
        "# Download the prototxt and caffemodel files\n",
        "prototxt_url = 'https://raw.githubusercontent.com/dscoool/opencv/refs/heads/main/deploy.prototxt.txt'\n",
        "caffemodel_url = 'https://github.com/dscoool/opencv/raw/refs/heads/main/weights.caffemodel'\n",
        "\n",
        "# Create temporary files to store the downloaded content\n",
        "prototxt_file = 'deploy.prototxt.txt'  # Temporary file for prototxt\n",
        "caffemodel_file = 'weights.caffemodel' # Temporary file for caffemodel\n",
        "\n",
        "# Download and save prototxt\n",
        "urllib.request.urlretrieve(prototxt_url, prototxt_file)\n",
        "# Download and save caffemodel\n",
        "urllib.request.urlretrieve(caffemodel_url, caffemodel_file)\n",
        "\n",
        "CONFIDENCE = 0.5\n",
        "\n",
        "model = cv2.dnn.readNetFromCaffe(prototxt_file, caffemodel_file)\n",
        "\n",
        "def face_pixelate(image,blocks=3):\n",
        "    (h,w)=image.shape[:2]\n",
        "    Xsteps=np.linspace(0,w,blocks+1,dtype='int')\n",
        "    Ysteps=np.linspace(0,h,blocks+1,dtype='int')\n",
        "    for i in range(1,len(Ysteps)):\n",
        "        for j in range(1,len(Xsteps)):\n",
        "            startX=Xsteps[j-1]\n",
        "            endX=Xsteps[j]\n",
        "            startY=Ysteps[i-1]\n",
        "            endY=Ysteps[i]\n",
        "            roi=image[startY:endY,startX:endX]\n",
        "            (B,G,R)=[int(x) for x in cv2.mean(roi)[:3]]\n",
        "            res=cv2.rectangle(image,(startX,startY),(endX,endY),(B,G,R),-1)\n",
        "    return image\n",
        "\n",
        "def face_blurring(image,blur_type,blocks=3):\n",
        "    img_copy=np.copy(image)\n",
        "    (h, w)=img_copy.shape[:2]\n",
        "    blob=cv2.dnn.blobFromImage(cv2.resize(img_copy,(300,300)),1.0,(300,300),(104.0,177.0,123.0))\n",
        "    model.setInput(blob)\n",
        "    detections=model.forward()\n",
        "    for i in range(0,detections.shape[2]):\n",
        "        confidence=detections[0, 0, i, 2]\n",
        "        if confidence>CONFIDENCE:\n",
        "            box=detections[0, 0, i, 3:7]*np.array([w, h, w, h])\n",
        "            (startX, startY, endX, endY) = box.astype(\"int\")\n",
        "            face=img_copy[startY:endY,startX:endX]\n",
        "            if(blur_type==\"pixelate\"):\n",
        "                face=face_pixelate(face,blocks)\n",
        "            else:\n",
        "                face=cv2.blur(face,(23, 23))\n",
        "                img_copy[startY:endY,startX:endX]=face\n",
        "    return img_copy\n",
        "\n",
        "\n",
        "image_url = \"https://raw.githubusercontent.com/dscoool/opencv/refs/heads/main/billgates.png\"\n",
        "\n",
        "if __name__=='__main__':\n",
        "    ap = argparse.ArgumentParser()\n",
        "    ap.add_argument(\"image\", required=True, help=\"path to input image\")\n",
        "    ap.add_argument(\"output\", required=True, help=\"path to output image\")\n",
        "    ap.add_argument(\"blur_type\",type=str, default=\"simple\",choices=[\"simple\", \"pixelated\"],\n",
        "\thelp=\"face blurring/anonymizing method\")\n",
        "    ap.add_argument(\"blocks\", type=int, default=15, help=\"# of blocks for the pixelated blurring method\")\n",
        "    args = vars(ap.parse_args())\n",
        "    img = cv2.imread(args.image)\n",
        "    start_time = time.time()\n",
        "    output=face_blurring(img,ap.blur_type,ap.blocks)\n",
        "    end_time = time.time()\n",
        "    t = end_time-start_time\n",
        "    print('time: {0}s'.format(t))\n",
        "    cv2.imwrite(args.output, output)"
      ],
      "metadata": {
        "colab": {
          "base_uri": "https://localhost:8080/",
          "height": 477
        },
        "id": "MF8YAGFmmsus",
        "outputId": "b1c96497-e7d8-4620-f5a6-6c4a37f6cd2a"
      },
      "execution_count": 10,
      "outputs": [
        {
          "output_type": "error",
          "ename": "TypeError",
          "evalue": "'required' is an invalid argument for positionals",
          "traceback": [
            "\u001b[0;31m---------------------------------------------------------------------------\u001b[0m",
            "\u001b[0;31mTypeError\u001b[0m                                 Traceback (most recent call last)",
            "\u001b[0;32m<ipython-input-10-b2dd38b7d3b5>\u001b[0m in \u001b[0;36m<cell line: 63>\u001b[0;34m()\u001b[0m\n\u001b[1;32m     63\u001b[0m \u001b[0;32mif\u001b[0m \u001b[0m__name__\u001b[0m\u001b[0;34m==\u001b[0m\u001b[0;34m'__main__'\u001b[0m\u001b[0;34m:\u001b[0m\u001b[0;34m\u001b[0m\u001b[0;34m\u001b[0m\u001b[0m\n\u001b[1;32m     64\u001b[0m     \u001b[0map\u001b[0m \u001b[0;34m=\u001b[0m \u001b[0margparse\u001b[0m\u001b[0;34m.\u001b[0m\u001b[0mArgumentParser\u001b[0m\u001b[0;34m(\u001b[0m\u001b[0;34m)\u001b[0m\u001b[0;34m\u001b[0m\u001b[0;34m\u001b[0m\u001b[0m\n\u001b[0;32m---> 65\u001b[0;31m     \u001b[0map\u001b[0m\u001b[0;34m.\u001b[0m\u001b[0madd_argument\u001b[0m\u001b[0;34m(\u001b[0m\u001b[0;34m\"image\"\u001b[0m\u001b[0;34m,\u001b[0m \u001b[0mrequired\u001b[0m\u001b[0;34m=\u001b[0m\u001b[0;32mTrue\u001b[0m\u001b[0;34m,\u001b[0m \u001b[0mhelp\u001b[0m\u001b[0;34m=\u001b[0m\u001b[0;34m\"path to input image\"\u001b[0m\u001b[0;34m)\u001b[0m\u001b[0;34m\u001b[0m\u001b[0;34m\u001b[0m\u001b[0m\n\u001b[0m\u001b[1;32m     66\u001b[0m     \u001b[0map\u001b[0m\u001b[0;34m.\u001b[0m\u001b[0madd_argument\u001b[0m\u001b[0;34m(\u001b[0m\u001b[0;34m\"output\"\u001b[0m\u001b[0;34m,\u001b[0m \u001b[0mrequired\u001b[0m\u001b[0;34m=\u001b[0m\u001b[0;32mTrue\u001b[0m\u001b[0;34m,\u001b[0m \u001b[0mhelp\u001b[0m\u001b[0;34m=\u001b[0m\u001b[0;34m\"path to output image\"\u001b[0m\u001b[0;34m)\u001b[0m\u001b[0;34m\u001b[0m\u001b[0;34m\u001b[0m\u001b[0m\n\u001b[1;32m     67\u001b[0m     ap.add_argument(\"blur_type\",type=str, default=\"simple\",choices=[\"simple\", \"pixelated\"],\n",
            "\u001b[0;32m/usr/lib/python3.10/argparse.py\u001b[0m in \u001b[0;36madd_argument\u001b[0;34m(self, *args, **kwargs)\u001b[0m\n\u001b[1;32m   1422\u001b[0m             \u001b[0;32mif\u001b[0m \u001b[0margs\u001b[0m \u001b[0;32mand\u001b[0m \u001b[0;34m'dest'\u001b[0m \u001b[0;32min\u001b[0m \u001b[0mkwargs\u001b[0m\u001b[0;34m:\u001b[0m\u001b[0;34m\u001b[0m\u001b[0;34m\u001b[0m\u001b[0m\n\u001b[1;32m   1423\u001b[0m                 \u001b[0;32mraise\u001b[0m \u001b[0mValueError\u001b[0m\u001b[0;34m(\u001b[0m\u001b[0;34m'dest supplied twice for positional argument'\u001b[0m\u001b[0;34m)\u001b[0m\u001b[0;34m\u001b[0m\u001b[0;34m\u001b[0m\u001b[0m\n\u001b[0;32m-> 1424\u001b[0;31m             \u001b[0mkwargs\u001b[0m \u001b[0;34m=\u001b[0m \u001b[0mself\u001b[0m\u001b[0;34m.\u001b[0m\u001b[0m_get_positional_kwargs\u001b[0m\u001b[0;34m(\u001b[0m\u001b[0;34m*\u001b[0m\u001b[0margs\u001b[0m\u001b[0;34m,\u001b[0m \u001b[0;34m**\u001b[0m\u001b[0mkwargs\u001b[0m\u001b[0;34m)\u001b[0m\u001b[0;34m\u001b[0m\u001b[0;34m\u001b[0m\u001b[0m\n\u001b[0m\u001b[1;32m   1425\u001b[0m \u001b[0;34m\u001b[0m\u001b[0m\n\u001b[1;32m   1426\u001b[0m         \u001b[0;31m# otherwise, we're adding an optional argument\u001b[0m\u001b[0;34m\u001b[0m\u001b[0;34m\u001b[0m\u001b[0m\n",
            "\u001b[0;32m/usr/lib/python3.10/argparse.py\u001b[0m in \u001b[0;36m_get_positional_kwargs\u001b[0;34m(self, dest, **kwargs)\u001b[0m\n\u001b[1;32m   1538\u001b[0m         \u001b[0;32mif\u001b[0m \u001b[0;34m'required'\u001b[0m \u001b[0;32min\u001b[0m \u001b[0mkwargs\u001b[0m\u001b[0;34m:\u001b[0m\u001b[0;34m\u001b[0m\u001b[0;34m\u001b[0m\u001b[0m\n\u001b[1;32m   1539\u001b[0m             \u001b[0mmsg\u001b[0m \u001b[0;34m=\u001b[0m \u001b[0m_\u001b[0m\u001b[0;34m(\u001b[0m\u001b[0;34m\"'required' is an invalid argument for positionals\"\u001b[0m\u001b[0;34m)\u001b[0m\u001b[0;34m\u001b[0m\u001b[0;34m\u001b[0m\u001b[0m\n\u001b[0;32m-> 1540\u001b[0;31m             \u001b[0;32mraise\u001b[0m \u001b[0mTypeError\u001b[0m\u001b[0;34m(\u001b[0m\u001b[0mmsg\u001b[0m\u001b[0;34m)\u001b[0m\u001b[0;34m\u001b[0m\u001b[0;34m\u001b[0m\u001b[0m\n\u001b[0m\u001b[1;32m   1541\u001b[0m \u001b[0;34m\u001b[0m\u001b[0m\n\u001b[1;32m   1542\u001b[0m         \u001b[0;31m# mark positional arguments as required if at least one is\u001b[0m\u001b[0;34m\u001b[0m\u001b[0;34m\u001b[0m\u001b[0m\n",
            "\u001b[0;31mTypeError\u001b[0m: 'required' is an invalid argument for positionals"
          ]
        }
      ]
    },
    {
      "cell_type": "markdown",
      "source": [
        "Ref: https://github.com/Sudarshana2000/Automated_face_blurring\n"
      ],
      "metadata": {
        "id": "9srWtTfImxXV"
      }
    }
  ]
}